{
  "nbformat": 4,
  "nbformat_minor": 0,
  "metadata": {
    "colab": {
      "name": "CSE 258 Assignment 2 DeepFM",
      "provenance": [],
      "collapsed_sections": []
    },
    "kernelspec": {
      "name": "python3",
      "display_name": "Python 3"
    },
    "language_info": {
      "name": "python"
    },
    "accelerator": "GPU"
  },
  "cells": [
    {
      "cell_type": "code",
      "metadata": {
        "colab": {
          "base_uri": "https://localhost:8080/"
        },
        "id": "nni9--iSOpc_",
        "outputId": "798de3f1-0e12-4812-ec8e-0c9a5dfd53d9"
      },
      "source": [
        "from google.colab import drive\n",
        "drive.mount('/content/drive')"
      ],
      "execution_count": null,
      "outputs": [
        {
          "output_type": "stream",
          "name": "stdout",
          "text": [
            "Mounted at /content/drive\n"
          ]
        }
      ]
    },
    {
      "cell_type": "code",
      "metadata": {
        "id": "JVZd7FMPVcFW"
      },
      "source": [
        "dataDir = \"/content/drive/MyDrive/\""
      ],
      "execution_count": null,
      "outputs": []
    },
    {
      "cell_type": "code",
      "metadata": {
        "id": "PckAf9rU0OT-"
      },
      "source": [
        "import pandas as pd\n"
      ],
      "execution_count": null,
      "outputs": []
    },
    {
      "cell_type": "code",
      "metadata": {
        "id": "Ek8fovxq8CFu"
      },
      "source": [
        "itemdf = pd.read_csv(dataDir + 'ml-100k/u.item', sep='|', encoding='latin-1', index_col=False, names=['movie id', 'movie title', 'release date', 'video release date', 'IMDb URL', 'unknown', 'Action', 'Adventure','Animation', 'Childrens', 'Comedy', 'Crime', 'Documentary', 'Drama', 'Fantasy', 'Film_Noir',  'Horror', 'Musical','Mystery', 'Romance','Sci_Fi','Thriller', 'War', 'Western'])\n",
        "# itemdf = itemdf.set_index('movie id')"
      ],
      "execution_count": null,
      "outputs": []
    },
    {
      "cell_type": "code",
      "metadata": {
        "colab": {
          "base_uri": "https://localhost:8080/",
          "height": 199
        },
        "id": "x3ospmDO7tXp",
        "outputId": "3c293e22-2413-4444-a83a-89deeb09f927"
      },
      "source": [
        "itemdf.head(2)"
      ],
      "execution_count": null,
      "outputs": [
        {
          "output_type": "execute_result",
          "data": {
            "text/html": [
              "<div>\n",
              "<style scoped>\n",
              "    .dataframe tbody tr th:only-of-type {\n",
              "        vertical-align: middle;\n",
              "    }\n",
              "\n",
              "    .dataframe tbody tr th {\n",
              "        vertical-align: top;\n",
              "    }\n",
              "\n",
              "    .dataframe thead th {\n",
              "        text-align: right;\n",
              "    }\n",
              "</style>\n",
              "<table border=\"1\" class=\"dataframe\">\n",
              "  <thead>\n",
              "    <tr style=\"text-align: right;\">\n",
              "      <th></th>\n",
              "      <th>movie id</th>\n",
              "      <th>movie title</th>\n",
              "      <th>release date</th>\n",
              "      <th>video release date</th>\n",
              "      <th>IMDb URL</th>\n",
              "      <th>unknown</th>\n",
              "      <th>Action</th>\n",
              "      <th>Adventure</th>\n",
              "      <th>Animation</th>\n",
              "      <th>Childrens</th>\n",
              "      <th>Comedy</th>\n",
              "      <th>Crime</th>\n",
              "      <th>Documentary</th>\n",
              "      <th>Drama</th>\n",
              "      <th>Fantasy</th>\n",
              "      <th>Film_Noir</th>\n",
              "      <th>Horror</th>\n",
              "      <th>Musical</th>\n",
              "      <th>Mystery</th>\n",
              "      <th>Romance</th>\n",
              "      <th>Sci_Fi</th>\n",
              "      <th>Thriller</th>\n",
              "      <th>War</th>\n",
              "      <th>Western</th>\n",
              "    </tr>\n",
              "  </thead>\n",
              "  <tbody>\n",
              "    <tr>\n",
              "      <th>0</th>\n",
              "      <td>1</td>\n",
              "      <td>Toy Story (1995)</td>\n",
              "      <td>01-Jan-1995</td>\n",
              "      <td>NaN</td>\n",
              "      <td>http://us.imdb.com/M/title-exact?Toy%20Story%2...</td>\n",
              "      <td>0</td>\n",
              "      <td>0</td>\n",
              "      <td>0</td>\n",
              "      <td>1</td>\n",
              "      <td>1</td>\n",
              "      <td>1</td>\n",
              "      <td>0</td>\n",
              "      <td>0</td>\n",
              "      <td>0</td>\n",
              "      <td>0</td>\n",
              "      <td>0</td>\n",
              "      <td>0</td>\n",
              "      <td>0</td>\n",
              "      <td>0</td>\n",
              "      <td>0</td>\n",
              "      <td>0</td>\n",
              "      <td>0</td>\n",
              "      <td>0</td>\n",
              "      <td>0</td>\n",
              "    </tr>\n",
              "    <tr>\n",
              "      <th>1</th>\n",
              "      <td>2</td>\n",
              "      <td>GoldenEye (1995)</td>\n",
              "      <td>01-Jan-1995</td>\n",
              "      <td>NaN</td>\n",
              "      <td>http://us.imdb.com/M/title-exact?GoldenEye%20(...</td>\n",
              "      <td>0</td>\n",
              "      <td>1</td>\n",
              "      <td>1</td>\n",
              "      <td>0</td>\n",
              "      <td>0</td>\n",
              "      <td>0</td>\n",
              "      <td>0</td>\n",
              "      <td>0</td>\n",
              "      <td>0</td>\n",
              "      <td>0</td>\n",
              "      <td>0</td>\n",
              "      <td>0</td>\n",
              "      <td>0</td>\n",
              "      <td>0</td>\n",
              "      <td>0</td>\n",
              "      <td>0</td>\n",
              "      <td>1</td>\n",
              "      <td>0</td>\n",
              "      <td>0</td>\n",
              "    </tr>\n",
              "  </tbody>\n",
              "</table>\n",
              "</div>"
            ],
            "text/plain": [
              "   movie id       movie title release date  ...  Thriller War  Western\n",
              "0         1  Toy Story (1995)  01-Jan-1995  ...         0   0        0\n",
              "1         2  GoldenEye (1995)  01-Jan-1995  ...         1   0        0\n",
              "\n",
              "[2 rows x 24 columns]"
            ]
          },
          "metadata": {},
          "execution_count": 123
        }
      ]
    },
    {
      "cell_type": "code",
      "metadata": {
        "id": "QmaaoozS7TU4"
      },
      "source": [
        "from collections import defaultdict\n",
        "\n",
        "movie_dict = defaultdict(list)\n"
      ],
      "execution_count": null,
      "outputs": []
    },
    {
      "cell_type": "code",
      "metadata": {
        "colab": {
          "base_uri": "https://localhost:8080/"
        },
        "id": "_xGzh7ZdBFnX",
        "outputId": "93b19d27-52cf-4461-a2cd-93791f4b3b73"
      },
      "source": [
        "itemdf = itemdf.rename(columns={'movie id':'movie_id'})\n",
        "itemdf.columns"
      ],
      "execution_count": null,
      "outputs": [
        {
          "output_type": "execute_result",
          "data": {
            "text/plain": [
              "Index(['movie_id', 'movie title', 'release date', 'video release date',\n",
              "       'IMDb URL', 'unknown', 'Action', 'Adventure', 'Animation', 'Childrens',\n",
              "       'Comedy', 'Crime', 'Documentary', 'Drama', 'Fantasy', 'Film_Noir',\n",
              "       'Horror', 'Musical', 'Mystery', 'Romance', 'Sci_Fi', 'Thriller', 'War',\n",
              "       'Western'],\n",
              "      dtype='object')"
            ]
          },
          "metadata": {},
          "execution_count": 125
        }
      ]
    },
    {
      "cell_type": "code",
      "metadata": {
        "id": "pgMt9-wU_6kX"
      },
      "source": [
        "genre_colums = ['unknown', 'Action', 'Adventure','Animation', 'Childrens', 'Comedy', 'Crime', 'Documentary', 'Drama', 'Fantasy', 'Film_Noir',  'Horror', 'Musical','Mystery', 'Romance','Sci_Fi','Thriller', 'War', 'Western']"
      ],
      "execution_count": null,
      "outputs": []
    },
    {
      "cell_type": "code",
      "metadata": {
        "id": "sEKMPGnT_pM6"
      },
      "source": [
        "for index,item in itemdf.iterrows():\n",
        "  for col in genre_colums:\n",
        "    movie_dict[item['movie_id']].append(item[col])"
      ],
      "execution_count": null,
      "outputs": []
    },
    {
      "cell_type": "code",
      "metadata": {
        "colab": {
          "base_uri": "https://localhost:8080/"
        },
        "id": "xjxjOOKiBlvo",
        "outputId": "4ad889ec-10be-4dca-abd0-f58d352cf27c"
      },
      "source": [
        "movie_dict[1]"
      ],
      "execution_count": null,
      "outputs": [
        {
          "output_type": "execute_result",
          "data": {
            "text/plain": [
              "[0, 0, 0, 1, 1, 1, 0, 0, 0, 0, 0, 0, 0, 0, 0, 0, 0, 0, 0]"
            ]
          },
          "metadata": {},
          "execution_count": 128
        }
      ]
    },
    {
      "cell_type": "code",
      "metadata": {
        "id": "pe3g5ffw29al"
      },
      "source": [
        "genre_df = pd.DataFrame(columns=['unknown', 'Action', 'Adventure','Animation', 'Childrens', 'Comedy', 'Crime', 'Documentary', 'Drama', 'Fantasy', 'Film_Noir',  'Horror', 'Musical','Mystery', 'Romance','Sci_Fi','Thriller', 'War', 'Western'])"
      ],
      "execution_count": null,
      "outputs": []
    },
    {
      "cell_type": "code",
      "metadata": {
        "colab": {
          "base_uri": "https://localhost:8080/",
          "height": 48
        },
        "id": "Gt4mbBV43FZV",
        "outputId": "693172e4-13e8-4280-e86e-13520b660551"
      },
      "source": [
        "genre_df.head(5)"
      ],
      "execution_count": null,
      "outputs": [
        {
          "output_type": "execute_result",
          "data": {
            "text/html": [
              "<div>\n",
              "<style scoped>\n",
              "    .dataframe tbody tr th:only-of-type {\n",
              "        vertical-align: middle;\n",
              "    }\n",
              "\n",
              "    .dataframe tbody tr th {\n",
              "        vertical-align: top;\n",
              "    }\n",
              "\n",
              "    .dataframe thead th {\n",
              "        text-align: right;\n",
              "    }\n",
              "</style>\n",
              "<table border=\"1\" class=\"dataframe\">\n",
              "  <thead>\n",
              "    <tr style=\"text-align: right;\">\n",
              "      <th></th>\n",
              "      <th>unknown</th>\n",
              "      <th>Action</th>\n",
              "      <th>Adventure</th>\n",
              "      <th>Animation</th>\n",
              "      <th>Childrens</th>\n",
              "      <th>Comedy</th>\n",
              "      <th>Crime</th>\n",
              "      <th>Documentary</th>\n",
              "      <th>Drama</th>\n",
              "      <th>Fantasy</th>\n",
              "      <th>Film_Noir</th>\n",
              "      <th>Horror</th>\n",
              "      <th>Musical</th>\n",
              "      <th>Mystery</th>\n",
              "      <th>Romance</th>\n",
              "      <th>Sci_Fi</th>\n",
              "      <th>Thriller</th>\n",
              "      <th>War</th>\n",
              "      <th>Western</th>\n",
              "    </tr>\n",
              "  </thead>\n",
              "  <tbody>\n",
              "  </tbody>\n",
              "</table>\n",
              "</div>"
            ],
            "text/plain": [
              "Empty DataFrame\n",
              "Columns: [unknown, Action, Adventure, Animation, Childrens, Comedy, Crime, Documentary, Drama, Fantasy, Film_Noir, Horror, Musical, Mystery, Romance, Sci_Fi, Thriller, War, Western]\n",
              "Index: []"
            ]
          },
          "metadata": {},
          "execution_count": 131
        }
      ]
    },
    {
      "cell_type": "code",
      "metadata": {
        "colab": {
          "base_uri": "https://localhost:8080/",
          "height": 204
        },
        "id": "Y2l2lkvN3TKu",
        "outputId": "515078b1-577f-47b7-ab35-8fa02f20d879"
      },
      "source": [
        "df_updated = pd.read_csv(dataDir + \"/movielensRaj.txt\")\n",
        "# df_updated.columns =[\"movie_id\", \"user_id\", \"user_gender\", \"user_zip_code\",\n",
        "#                  \"user_occupation_text\", \"bucketized_user_age\",\"user_rating\"]\n",
        "\n",
        "df_updated.head()"
      ],
      "execution_count": null,
      "outputs": [
        {
          "output_type": "execute_result",
          "data": {
            "text/html": [
              "<div>\n",
              "<style scoped>\n",
              "    .dataframe tbody tr th:only-of-type {\n",
              "        vertical-align: middle;\n",
              "    }\n",
              "\n",
              "    .dataframe tbody tr th {\n",
              "        vertical-align: top;\n",
              "    }\n",
              "\n",
              "    .dataframe thead th {\n",
              "        text-align: right;\n",
              "    }\n",
              "</style>\n",
              "<table border=\"1\" class=\"dataframe\">\n",
              "  <thead>\n",
              "    <tr style=\"text-align: right;\">\n",
              "      <th></th>\n",
              "      <th>movie_id</th>\n",
              "      <th>user_id</th>\n",
              "      <th>user_gender</th>\n",
              "      <th>user_zip_code</th>\n",
              "      <th>user_occupation_text</th>\n",
              "      <th>user_age</th>\n",
              "      <th>user_rating</th>\n",
              "    </tr>\n",
              "  </thead>\n",
              "  <tbody>\n",
              "    <tr>\n",
              "      <th>0</th>\n",
              "      <td>357</td>\n",
              "      <td>138</td>\n",
              "      <td>1</td>\n",
              "      <td>53211</td>\n",
              "      <td>doctor</td>\n",
              "      <td>45</td>\n",
              "      <td>4.0</td>\n",
              "    </tr>\n",
              "    <tr>\n",
              "      <th>1</th>\n",
              "      <td>709</td>\n",
              "      <td>92</td>\n",
              "      <td>1</td>\n",
              "      <td>80525</td>\n",
              "      <td>entertainment</td>\n",
              "      <td>25</td>\n",
              "      <td>2.0</td>\n",
              "    </tr>\n",
              "    <tr>\n",
              "      <th>2</th>\n",
              "      <td>412</td>\n",
              "      <td>301</td>\n",
              "      <td>1</td>\n",
              "      <td>55439</td>\n",
              "      <td>student</td>\n",
              "      <td>18</td>\n",
              "      <td>4.0</td>\n",
              "    </tr>\n",
              "    <tr>\n",
              "      <th>3</th>\n",
              "      <td>56</td>\n",
              "      <td>60</td>\n",
              "      <td>1</td>\n",
              "      <td>06472</td>\n",
              "      <td>healthcare</td>\n",
              "      <td>50</td>\n",
              "      <td>4.0</td>\n",
              "    </tr>\n",
              "    <tr>\n",
              "      <th>4</th>\n",
              "      <td>895</td>\n",
              "      <td>197</td>\n",
              "      <td>1</td>\n",
              "      <td>75094</td>\n",
              "      <td>technician</td>\n",
              "      <td>50</td>\n",
              "      <td>3.0</td>\n",
              "    </tr>\n",
              "  </tbody>\n",
              "</table>\n",
              "</div>"
            ],
            "text/plain": [
              "   movie_id  user_id  user_gender  ... user_occupation_text user_age  user_rating\n",
              "0       357      138            1  ...               doctor       45          4.0\n",
              "1       709       92            1  ...        entertainment       25          2.0\n",
              "2       412      301            1  ...              student       18          4.0\n",
              "3        56       60            1  ...           healthcare       50          4.0\n",
              "4       895      197            1  ...           technician       50          3.0\n",
              "\n",
              "[5 rows x 7 columns]"
            ]
          },
          "metadata": {},
          "execution_count": 132
        }
      ]
    },
    {
      "cell_type": "code",
      "metadata": {
        "id": "_10Rth7kCIZK"
      },
      "source": [
        "df_updated_org = df_updated"
      ],
      "execution_count": null,
      "outputs": []
    },
    {
      "cell_type": "code",
      "metadata": {
        "colab": {
          "base_uri": "https://localhost:8080/"
        },
        "id": "QIEt2JPxCKgT",
        "outputId": "cb9191b4-e842-46b8-92e8-4c1f563b855c"
      },
      "source": [
        ""
      ],
      "execution_count": null,
      "outputs": [
        {
          "output_type": "execute_result",
          "data": {
            "text/plain": [
              "Index(['movie_id', 'user_id', 'user_gender', 'user_zip_code',\n",
              "       'user_occupation_text', 'user_age', 'user_rating'],\n",
              "      dtype='object')"
            ]
          },
          "metadata": {},
          "execution_count": 64
        }
      ]
    },
    {
      "cell_type": "code",
      "metadata": {
        "id": "mB1IFVnZCPtZ"
      },
      "source": [
        "for col in genre_colums:\n",
        "  df_updated[col] = 0"
      ],
      "execution_count": null,
      "outputs": []
    },
    {
      "cell_type": "code",
      "metadata": {
        "id": "T_rBRH1f00C-"
      },
      "source": [
        "\n",
        "genre_index_dict = {}\n",
        "count = 0\n",
        "for genre in genre_colums:\n",
        "  genre_index_dict[genre] = count\n",
        "  count+=1\n"
      ],
      "execution_count": null,
      "outputs": []
    },
    {
      "cell_type": "code",
      "metadata": {
        "colab": {
          "base_uri": "https://localhost:8080/"
        },
        "id": "R2B6pc0wDfkR",
        "outputId": "60d8af48-a8b0-4ff3-deb8-87861e4ec22d"
      },
      "source": [
        "genre_index_dict"
      ],
      "execution_count": null,
      "outputs": [
        {
          "output_type": "execute_result",
          "data": {
            "text/plain": [
              "{'Action': 1,\n",
              " 'Adventure': 2,\n",
              " 'Animation': 3,\n",
              " 'Childrens': 4,\n",
              " 'Comedy': 5,\n",
              " 'Crime': 6,\n",
              " 'Documentary': 7,\n",
              " 'Drama': 8,\n",
              " 'Fantasy': 9,\n",
              " 'Film_Noir': 10,\n",
              " 'Horror': 11,\n",
              " 'Musical': 12,\n",
              " 'Mystery': 13,\n",
              " 'Romance': 14,\n",
              " 'Sci_Fi': 15,\n",
              " 'Thriller': 16,\n",
              " 'War': 17,\n",
              " 'Western': 18,\n",
              " 'unknown': 0}"
            ]
          },
          "metadata": {},
          "execution_count": 136
        }
      ]
    },
    {
      "cell_type": "code",
      "metadata": {
        "colab": {
          "base_uri": "https://localhost:8080/",
          "height": 131
        },
        "id": "hIKlqfaRGeq-",
        "outputId": "acea9913-41d1-4fcb-e466-4c525d2a49f5"
      },
      "source": [
        "df_updated.head(2)"
      ],
      "execution_count": null,
      "outputs": [
        {
          "output_type": "execute_result",
          "data": {
            "text/html": [
              "<div>\n",
              "<style scoped>\n",
              "    .dataframe tbody tr th:only-of-type {\n",
              "        vertical-align: middle;\n",
              "    }\n",
              "\n",
              "    .dataframe tbody tr th {\n",
              "        vertical-align: top;\n",
              "    }\n",
              "\n",
              "    .dataframe thead th {\n",
              "        text-align: right;\n",
              "    }\n",
              "</style>\n",
              "<table border=\"1\" class=\"dataframe\">\n",
              "  <thead>\n",
              "    <tr style=\"text-align: right;\">\n",
              "      <th></th>\n",
              "      <th>movie_id</th>\n",
              "      <th>user_id</th>\n",
              "      <th>user_gender</th>\n",
              "      <th>user_zip_code</th>\n",
              "      <th>user_occupation_text</th>\n",
              "      <th>user_age</th>\n",
              "      <th>user_rating</th>\n",
              "      <th>unknown</th>\n",
              "      <th>Action</th>\n",
              "      <th>Adventure</th>\n",
              "      <th>Animation</th>\n",
              "      <th>Childrens</th>\n",
              "      <th>Comedy</th>\n",
              "      <th>Crime</th>\n",
              "      <th>Documentary</th>\n",
              "      <th>Drama</th>\n",
              "      <th>Fantasy</th>\n",
              "      <th>Film_Noir</th>\n",
              "      <th>Horror</th>\n",
              "      <th>Musical</th>\n",
              "      <th>Mystery</th>\n",
              "      <th>Romance</th>\n",
              "      <th>Sci_Fi</th>\n",
              "      <th>Thriller</th>\n",
              "      <th>War</th>\n",
              "      <th>Western</th>\n",
              "    </tr>\n",
              "  </thead>\n",
              "  <tbody>\n",
              "    <tr>\n",
              "      <th>0</th>\n",
              "      <td>357</td>\n",
              "      <td>138</td>\n",
              "      <td>1</td>\n",
              "      <td>53211</td>\n",
              "      <td>doctor</td>\n",
              "      <td>45</td>\n",
              "      <td>4.0</td>\n",
              "      <td>0</td>\n",
              "      <td>0</td>\n",
              "      <td>0</td>\n",
              "      <td>0</td>\n",
              "      <td>0</td>\n",
              "      <td>0</td>\n",
              "      <td>0</td>\n",
              "      <td>0</td>\n",
              "      <td>0</td>\n",
              "      <td>0</td>\n",
              "      <td>0</td>\n",
              "      <td>0</td>\n",
              "      <td>0</td>\n",
              "      <td>0</td>\n",
              "      <td>0</td>\n",
              "      <td>0</td>\n",
              "      <td>0</td>\n",
              "      <td>0</td>\n",
              "      <td>0</td>\n",
              "    </tr>\n",
              "    <tr>\n",
              "      <th>1</th>\n",
              "      <td>709</td>\n",
              "      <td>92</td>\n",
              "      <td>1</td>\n",
              "      <td>80525</td>\n",
              "      <td>entertainment</td>\n",
              "      <td>25</td>\n",
              "      <td>2.0</td>\n",
              "      <td>0</td>\n",
              "      <td>0</td>\n",
              "      <td>0</td>\n",
              "      <td>0</td>\n",
              "      <td>0</td>\n",
              "      <td>0</td>\n",
              "      <td>0</td>\n",
              "      <td>0</td>\n",
              "      <td>0</td>\n",
              "      <td>0</td>\n",
              "      <td>0</td>\n",
              "      <td>0</td>\n",
              "      <td>0</td>\n",
              "      <td>0</td>\n",
              "      <td>0</td>\n",
              "      <td>0</td>\n",
              "      <td>0</td>\n",
              "      <td>0</td>\n",
              "      <td>0</td>\n",
              "    </tr>\n",
              "  </tbody>\n",
              "</table>\n",
              "</div>"
            ],
            "text/plain": [
              "   movie_id  user_id  user_gender user_zip_code  ... Sci_Fi  Thriller  War  Western\n",
              "0       357      138            1         53211  ...      0         0    0        0\n",
              "1       709       92            1         80525  ...      0         0    0        0\n",
              "\n",
              "[2 rows x 26 columns]"
            ]
          },
          "metadata": {},
          "execution_count": 137
        }
      ]
    },
    {
      "cell_type": "code",
      "metadata": {
        "id": "e3JA48eJLLDa"
      },
      "source": [
        "import numpy as np"
      ],
      "execution_count": null,
      "outputs": []
    },
    {
      "cell_type": "code",
      "metadata": {
        "id": "6dpP2a-NKz_A"
      },
      "source": [
        "arr= np.array(df_updated.values.tolist())"
      ],
      "execution_count": null,
      "outputs": []
    },
    {
      "cell_type": "code",
      "metadata": {
        "colab": {
          "base_uri": "https://localhost:8080/"
        },
        "id": "81RVGJmGLU2P",
        "outputId": "35851ad9-ab54-4b47-d006-a69e0b7c0960"
      },
      "source": [
        "arr[0]"
      ],
      "execution_count": null,
      "outputs": [
        {
          "output_type": "execute_result",
          "data": {
            "text/plain": [
              "array(['357', '138', '1', '53211', 'doctor', '45', '4.0', '0', '0', '0',\n",
              "       '0', '0', '0', '0', '0', '0', '0', '0', '0', '0', '0', '0', '0',\n",
              "       '0', '0', '0'], dtype='<U21')"
            ]
          },
          "metadata": {},
          "execution_count": 141
        }
      ]
    },
    {
      "cell_type": "code",
      "metadata": {
        "id": "YpFDTnw2LhGg"
      },
      "source": [
        "data_genre_dict = {}\n",
        "for gen in genre_index_dict:\n",
        "  data_genre_dict[gen]= genre_index_dict[gen] + 7"
      ],
      "execution_count": null,
      "outputs": []
    },
    {
      "cell_type": "code",
      "metadata": {
        "colab": {
          "base_uri": "https://localhost:8080/"
        },
        "id": "qUTDrOXtLyHa",
        "outputId": "5822ea66-0b84-4cd2-fc72-b49174f46c26"
      },
      "source": [
        "data_genre_dict"
      ],
      "execution_count": null,
      "outputs": [
        {
          "output_type": "execute_result",
          "data": {
            "text/plain": [
              "{'Action': 8,\n",
              " 'Adventure': 9,\n",
              " 'Animation': 10,\n",
              " 'Childrens': 11,\n",
              " 'Comedy': 12,\n",
              " 'Crime': 13,\n",
              " 'Documentary': 14,\n",
              " 'Drama': 15,\n",
              " 'Fantasy': 16,\n",
              " 'Film_Noir': 17,\n",
              " 'Horror': 18,\n",
              " 'Musical': 19,\n",
              " 'Mystery': 20,\n",
              " 'Romance': 21,\n",
              " 'Sci_Fi': 22,\n",
              " 'Thriller': 23,\n",
              " 'War': 24,\n",
              " 'Western': 25,\n",
              " 'unknown': 7}"
            ]
          },
          "metadata": {},
          "execution_count": 143
        }
      ]
    },
    {
      "cell_type": "code",
      "metadata": {
        "colab": {
          "base_uri": "https://localhost:8080/"
        },
        "id": "YHneL-xpMRgP",
        "outputId": "a0e907f7-3368-4691-98d9-99949099e530"
      },
      "source": [
        "max(data_genre_dict.values())"
      ],
      "execution_count": null,
      "outputs": [
        {
          "output_type": "execute_result",
          "data": {
            "text/plain": [
              "25"
            ]
          },
          "metadata": {},
          "execution_count": 144
        }
      ]
    },
    {
      "cell_type": "code",
      "metadata": {
        "colab": {
          "base_uri": "https://localhost:8080/"
        },
        "id": "B8VwqmWDNi-O",
        "outputId": "73543e65-f9ec-4a5f-bfb9-de022047908d"
      },
      "source": [
        "movie_dict[265]"
      ],
      "execution_count": null,
      "outputs": [
        {
          "output_type": "execute_result",
          "data": {
            "text/plain": [
              "[0, 1, 0, 0, 0, 0, 0, 0, 0, 0, 0, 0, 0, 0, 0, 0, 1, 0, 0]"
            ]
          },
          "metadata": {},
          "execution_count": 145
        }
      ]
    },
    {
      "cell_type": "code",
      "metadata": {
        "id": "wjOFGl8XGjsE"
      },
      "source": [
        "for i in range(len(arr)):\n",
        "  for j in range(7,26):\n",
        "    arr[i][j] = movie_dict[int(arr[i][0])][j-7]\n"
      ],
      "execution_count": null,
      "outputs": []
    },
    {
      "cell_type": "code",
      "metadata": {
        "colab": {
          "base_uri": "https://localhost:8080/"
        },
        "id": "TLdD-fIGavdr",
        "outputId": "8f30ac58-9308-4f14-d011-95121a3678b5"
      },
      "source": [
        "arr[0]"
      ],
      "execution_count": null,
      "outputs": [
        {
          "output_type": "execute_result",
          "data": {
            "text/plain": [
              "array(['357', '138', '1', '53211', 'doctor', '45', '4.0', '0', '0', '0',\n",
              "       '0', '0', '0', '0', '0', '1', '0', '0', '0', '0', '0', '0', '0',\n",
              "       '0', '0', '0'], dtype='<U21')"
            ]
          },
          "metadata": {},
          "execution_count": 147
        }
      ]
    },
    {
      "cell_type": "code",
      "metadata": {
        "colab": {
          "base_uri": "https://localhost:8080/"
        },
        "id": "GK4nxEDea1xd",
        "outputId": "d50fc242-df07-4ac4-effa-e59cc06caf48"
      },
      "source": [
        "complete_column = df_updated.columns\n",
        "complete_column"
      ],
      "execution_count": null,
      "outputs": [
        {
          "output_type": "execute_result",
          "data": {
            "text/plain": [
              "Index(['movie_id', 'user_id', 'user_gender', 'user_zip_code',\n",
              "       'user_occupation_text', 'user_age', 'user_rating', 'unknown', 'Action',\n",
              "       'Adventure', 'Animation', 'Childrens', 'Comedy', 'Crime', 'Documentary',\n",
              "       'Drama', 'Fantasy', 'Film_Noir', 'Horror', 'Musical', 'Mystery',\n",
              "       'Romance', 'Sci_Fi', 'Thriller', 'War', 'Western'],\n",
              "      dtype='object')"
            ]
          },
          "metadata": {},
          "execution_count": 150
        }
      ]
    },
    {
      "cell_type": "code",
      "metadata": {
        "colab": {
          "base_uri": "https://localhost:8080/",
          "height": 131
        },
        "id": "82t8RPuvbapd",
        "outputId": "28b81a32-dae5-4843-c71b-470dbc0abf84"
      },
      "source": [
        "dataset = pd.DataFrame(arr, columns=complete_column)\n",
        "dataset.head(2)"
      ],
      "execution_count": null,
      "outputs": [
        {
          "output_type": "execute_result",
          "data": {
            "text/html": [
              "<div>\n",
              "<style scoped>\n",
              "    .dataframe tbody tr th:only-of-type {\n",
              "        vertical-align: middle;\n",
              "    }\n",
              "\n",
              "    .dataframe tbody tr th {\n",
              "        vertical-align: top;\n",
              "    }\n",
              "\n",
              "    .dataframe thead th {\n",
              "        text-align: right;\n",
              "    }\n",
              "</style>\n",
              "<table border=\"1\" class=\"dataframe\">\n",
              "  <thead>\n",
              "    <tr style=\"text-align: right;\">\n",
              "      <th></th>\n",
              "      <th>movie_id</th>\n",
              "      <th>user_id</th>\n",
              "      <th>user_gender</th>\n",
              "      <th>user_zip_code</th>\n",
              "      <th>user_occupation_text</th>\n",
              "      <th>user_age</th>\n",
              "      <th>user_rating</th>\n",
              "      <th>unknown</th>\n",
              "      <th>Action</th>\n",
              "      <th>Adventure</th>\n",
              "      <th>Animation</th>\n",
              "      <th>Childrens</th>\n",
              "      <th>Comedy</th>\n",
              "      <th>Crime</th>\n",
              "      <th>Documentary</th>\n",
              "      <th>Drama</th>\n",
              "      <th>Fantasy</th>\n",
              "      <th>Film_Noir</th>\n",
              "      <th>Horror</th>\n",
              "      <th>Musical</th>\n",
              "      <th>Mystery</th>\n",
              "      <th>Romance</th>\n",
              "      <th>Sci_Fi</th>\n",
              "      <th>Thriller</th>\n",
              "      <th>War</th>\n",
              "      <th>Western</th>\n",
              "    </tr>\n",
              "  </thead>\n",
              "  <tbody>\n",
              "    <tr>\n",
              "      <th>0</th>\n",
              "      <td>357</td>\n",
              "      <td>138</td>\n",
              "      <td>1</td>\n",
              "      <td>53211</td>\n",
              "      <td>doctor</td>\n",
              "      <td>45</td>\n",
              "      <td>4.0</td>\n",
              "      <td>0</td>\n",
              "      <td>0</td>\n",
              "      <td>0</td>\n",
              "      <td>0</td>\n",
              "      <td>0</td>\n",
              "      <td>0</td>\n",
              "      <td>0</td>\n",
              "      <td>0</td>\n",
              "      <td>1</td>\n",
              "      <td>0</td>\n",
              "      <td>0</td>\n",
              "      <td>0</td>\n",
              "      <td>0</td>\n",
              "      <td>0</td>\n",
              "      <td>0</td>\n",
              "      <td>0</td>\n",
              "      <td>0</td>\n",
              "      <td>0</td>\n",
              "      <td>0</td>\n",
              "    </tr>\n",
              "    <tr>\n",
              "      <th>1</th>\n",
              "      <td>709</td>\n",
              "      <td>92</td>\n",
              "      <td>1</td>\n",
              "      <td>80525</td>\n",
              "      <td>entertainment</td>\n",
              "      <td>25</td>\n",
              "      <td>2.0</td>\n",
              "      <td>0</td>\n",
              "      <td>0</td>\n",
              "      <td>0</td>\n",
              "      <td>0</td>\n",
              "      <td>0</td>\n",
              "      <td>1</td>\n",
              "      <td>0</td>\n",
              "      <td>0</td>\n",
              "      <td>0</td>\n",
              "      <td>0</td>\n",
              "      <td>0</td>\n",
              "      <td>0</td>\n",
              "      <td>0</td>\n",
              "      <td>0</td>\n",
              "      <td>1</td>\n",
              "      <td>0</td>\n",
              "      <td>0</td>\n",
              "      <td>0</td>\n",
              "      <td>0</td>\n",
              "    </tr>\n",
              "  </tbody>\n",
              "</table>\n",
              "</div>"
            ],
            "text/plain": [
              "  movie_id user_id user_gender user_zip_code  ... Sci_Fi Thriller War Western\n",
              "0      357     138           1         53211  ...      0        0   0       0\n",
              "1      709      92           1         80525  ...      0        0   0       0\n",
              "\n",
              "[2 rows x 26 columns]"
            ]
          },
          "metadata": {},
          "execution_count": 152
        }
      ]
    },
    {
      "cell_type": "code",
      "metadata": {
        "id": "h_lXjG8Xby7D"
      },
      "source": [
        "dataset.to_csv(dataDir+ 'movieLensRajUpdated.csv', index=False)\n"
      ],
      "execution_count": null,
      "outputs": []
    },
    {
      "cell_type": "code",
      "metadata": {
        "id": "rpcQ9_XUoPu3"
      },
      "source": [
        "!pip install -q tensorflow-recommenders\n",
        "!pip install -q --upgrade tensorflow-datasets"
      ],
      "execution_count": null,
      "outputs": []
    },
    {
      "cell_type": "code",
      "metadata": {
        "id": "klzo5Tb_wc9Z"
      },
      "source": [
        "!pip install tensorflow-datasets==4.3"
      ],
      "execution_count": null,
      "outputs": []
    },
    {
      "cell_type": "code",
      "metadata": {
        "id": "hCH4pTs5oDr-"
      },
      "source": [
        "import tensorflow as tf\n",
        "import tensorflow_datasets as tfds\n",
        "import tensorflow_recommenders as tfrs"
      ],
      "execution_count": null,
      "outputs": []
    },
    {
      "cell_type": "code",
      "metadata": {
        "id": "6FD1wdt-EPCz"
      },
      "source": [
        "!pip install -U deepctr-torch"
      ],
      "execution_count": null,
      "outputs": []
    },
    {
      "cell_type": "code",
      "metadata": {
        "id": "-Ke75C1QEUCY"
      },
      "source": [
        "import numpy as np\n",
        "import pandas as pd\n",
        "import torch\n",
        "from sklearn.preprocessing import LabelEncoder\n",
        "from tensorflow.python.keras.preprocessing.sequence import pad_sequences\n",
        "\n",
        "from deepctr_torch.inputs import SparseFeat, VarLenSparseFeat, get_feature_names\n",
        "from deepctr_torch.models import DeepFM\n",
        "\n",
        "\n",
        "def split(x):\n",
        "    key_ans = x.split('|')\n",
        "    for key in key_ans:\n",
        "        if key not in key2index:\n",
        "            # Notice : input value 0 is a special \"padding\",so we do not use 0 to encode valid feature for sequence input\n",
        "            key2index[key] = len(key2index) + 1\n",
        "    return list(map(lambda x: key2index[x], key_ans))\n",
        "\n",
        "\n",
        "    "
      ],
      "execution_count": null,
      "outputs": []
    },
    {
      "cell_type": "code",
      "metadata": {
        "id": "Vre5sMDYoE6I"
      },
      "source": [
        "%matplotlib inline\n",
        "import matplotlib.pyplot as plt\n",
        "from mpl_toolkits.axes_grid1 import make_axes_locatable\n",
        "\n",
        "import numpy as np"
      ],
      "execution_count": null,
      "outputs": []
    },
    {
      "cell_type": "code",
      "metadata": {
        "colab": {
          "base_uri": "https://localhost:8080/",
          "height": 37
        },
        "id": "avpqtzkD09gH",
        "outputId": "4cc58101-7601-408f-821e-7d1b68528474"
      },
      "source": [
        "dataDir\n"
      ],
      "execution_count": null,
      "outputs": [
        {
          "output_type": "execute_result",
          "data": {
            "application/vnd.google.colaboratory.intrinsic+json": {
              "type": "string"
            },
            "text/plain": [
              "'/content/drive/MyDrive/'"
            ]
          },
          "metadata": {},
          "execution_count": 11
        }
      ]
    },
    {
      "cell_type": "code",
      "metadata": {
        "colab": {
          "base_uri": "https://localhost:8080/"
        },
        "id": "HgeExkHvq14d",
        "outputId": "e0f0dbd5-f391-4ba4-99c4-91202615d32b"
      },
      "source": [
        "ratings = tfds.load(\"movie_lens/100k-ratings\", split=\"train\")\n",
        "ratings = ratings.map(lambda x: {\n",
        "    \"movie_id\": x[\"movie_id\"],\n",
        "    \"user_id\": x[\"user_id\"],\n",
        "    \"user_rating\": x[\"user_rating\"],\n",
        "    \"user_gender\": int(x[\"user_gender\"]),\n",
        "    \"user_zip_code\": x[\"user_zip_code\"],\n",
        "    \"user_occupation_text\": x[\"user_occupation_text\"],\n",
        "    \"bucketized_user_age\": int(x[\"bucketized_user_age\"]),\n",
        "})"
      ],
      "execution_count": null,
      "outputs": [
        {
          "output_type": "stream",
          "name": "stderr",
          "text": [
            "WARNING:absl:The handle \"movie_lens\" for the MovieLens dataset is deprecated. Prefer using \"movielens\" instead.\n"
          ]
        }
      ]
    },
    {
      "cell_type": "code",
      "metadata": {
        "id": "KwSxyTYVZH48"
      },
      "source": [
        "# ratings_data = [[\"\" for y in range(7)] for x in range(100000)]\n"
      ],
      "execution_count": null,
      "outputs": []
    },
    {
      "cell_type": "code",
      "metadata": {
        "id": "rVGZczAowFch"
      },
      "source": [
        "tf.random.set_seed(42)\n",
        "shuffled = ratings.shuffle(100_000, seed=42, reshuffle_each_iteration=False)\n",
        "\n",
        "train = shuffled.take(80_000)\n",
        "test = shuffled.skip(80_000).take(20_000)"
      ],
      "execution_count": null,
      "outputs": []
    },
    {
      "cell_type": "code",
      "metadata": {
        "id": "39y08kyCxH1Z"
      },
      "source": [
        "feature_names = [\"movie_id\", \"user_id\", \"user_gender\", \"user_zip_code\",\n",
        "                 \"user_occupation_text\", \"bucketized_user_age\",\"user_rating\"]\n",
        "\n",
        "vocabularies = {}\n",
        "\n",
        "for feature_name in feature_names:\n",
        "  vocab = ratings.batch(1_000_000).map(lambda x: x[feature_name])\n",
        "  vocabularies[feature_name] = np.concatenate(list(vocab))"
      ],
      "execution_count": null,
      "outputs": []
    },
    {
      "cell_type": "code",
      "metadata": {
        "colab": {
          "base_uri": "https://localhost:8080/"
        },
        "id": "SsPWmZ64u2FL",
        "outputId": "524f4a5c-209a-4eba-c20b-10a43f254bf5"
      },
      "source": [
        "len(vocabularies['user_rating'])"
      ],
      "execution_count": null,
      "outputs": [
        {
          "output_type": "execute_result",
          "data": {
            "text/plain": [
              "100000"
            ]
          },
          "metadata": {},
          "execution_count": 16
        }
      ]
    },
    {
      "cell_type": "code",
      "metadata": {
        "colab": {
          "base_uri": "https://localhost:8080/",
          "height": 49
        },
        "id": "lKUL9pO5eEAS",
        "outputId": "6f3363d5-7cf5-430d-aeb2-96e093e3e1b9"
      },
      "source": [
        "import pandas as pd\n",
        "df = pd.DataFrame(columns = [\"movie_id\", \"user_id\", \"user_gender\", \"user_zip_code\",\n",
        "                 \"user_occupation_text\", \"bucketized_user_age\",\"user_rating\"])\n",
        "df.head()"
      ],
      "execution_count": null,
      "outputs": [
        {
          "output_type": "execute_result",
          "data": {
            "text/html": [
              "<div>\n",
              "<style scoped>\n",
              "    .dataframe tbody tr th:only-of-type {\n",
              "        vertical-align: middle;\n",
              "    }\n",
              "\n",
              "    .dataframe tbody tr th {\n",
              "        vertical-align: top;\n",
              "    }\n",
              "\n",
              "    .dataframe thead th {\n",
              "        text-align: right;\n",
              "    }\n",
              "</style>\n",
              "<table border=\"1\" class=\"dataframe\">\n",
              "  <thead>\n",
              "    <tr style=\"text-align: right;\">\n",
              "      <th></th>\n",
              "      <th>movie_id</th>\n",
              "      <th>user_id</th>\n",
              "      <th>user_gender</th>\n",
              "      <th>user_zip_code</th>\n",
              "      <th>user_occupation_text</th>\n",
              "      <th>bucketized_user_age</th>\n",
              "      <th>user_rating</th>\n",
              "    </tr>\n",
              "  </thead>\n",
              "  <tbody>\n",
              "  </tbody>\n",
              "</table>\n",
              "</div>"
            ],
            "text/plain": [
              "Empty DataFrame\n",
              "Columns: [movie_id, user_id, user_gender, user_zip_code, user_occupation_text, bucketized_user_age, user_rating]\n",
              "Index: []"
            ]
          },
          "metadata": {},
          "execution_count": 17
        }
      ]
    },
    {
      "cell_type": "code",
      "metadata": {
        "colab": {
          "base_uri": "https://localhost:8080/",
          "height": 204
        },
        "id": "mva2dk7cwNPG",
        "outputId": "662f8a98-487a-4cb5-effa-3dcec12e9cdf"
      },
      "source": [
        "for feature_name in feature_names:\n",
        "  df[feature_name] = vocabularies[feature_name]\n",
        "df.head()"
      ],
      "execution_count": null,
      "outputs": [
        {
          "output_type": "execute_result",
          "data": {
            "text/html": [
              "<div>\n",
              "<style scoped>\n",
              "    .dataframe tbody tr th:only-of-type {\n",
              "        vertical-align: middle;\n",
              "    }\n",
              "\n",
              "    .dataframe tbody tr th {\n",
              "        vertical-align: top;\n",
              "    }\n",
              "\n",
              "    .dataframe thead th {\n",
              "        text-align: right;\n",
              "    }\n",
              "</style>\n",
              "<table border=\"1\" class=\"dataframe\">\n",
              "  <thead>\n",
              "    <tr style=\"text-align: right;\">\n",
              "      <th></th>\n",
              "      <th>movie_id</th>\n",
              "      <th>user_id</th>\n",
              "      <th>user_gender</th>\n",
              "      <th>user_zip_code</th>\n",
              "      <th>user_occupation_text</th>\n",
              "      <th>bucketized_user_age</th>\n",
              "      <th>user_rating</th>\n",
              "    </tr>\n",
              "  </thead>\n",
              "  <tbody>\n",
              "    <tr>\n",
              "      <th>0</th>\n",
              "      <td>b'357'</td>\n",
              "      <td>b'138'</td>\n",
              "      <td>1</td>\n",
              "      <td>b'53211'</td>\n",
              "      <td>b'doctor'</td>\n",
              "      <td>45</td>\n",
              "      <td>4.0</td>\n",
              "    </tr>\n",
              "    <tr>\n",
              "      <th>1</th>\n",
              "      <td>b'709'</td>\n",
              "      <td>b'92'</td>\n",
              "      <td>1</td>\n",
              "      <td>b'80525'</td>\n",
              "      <td>b'entertainment'</td>\n",
              "      <td>25</td>\n",
              "      <td>2.0</td>\n",
              "    </tr>\n",
              "    <tr>\n",
              "      <th>2</th>\n",
              "      <td>b'412'</td>\n",
              "      <td>b'301'</td>\n",
              "      <td>1</td>\n",
              "      <td>b'55439'</td>\n",
              "      <td>b'student'</td>\n",
              "      <td>18</td>\n",
              "      <td>4.0</td>\n",
              "    </tr>\n",
              "    <tr>\n",
              "      <th>3</th>\n",
              "      <td>b'56'</td>\n",
              "      <td>b'60'</td>\n",
              "      <td>1</td>\n",
              "      <td>b'06472'</td>\n",
              "      <td>b'healthcare'</td>\n",
              "      <td>50</td>\n",
              "      <td>4.0</td>\n",
              "    </tr>\n",
              "    <tr>\n",
              "      <th>4</th>\n",
              "      <td>b'895'</td>\n",
              "      <td>b'197'</td>\n",
              "      <td>1</td>\n",
              "      <td>b'75094'</td>\n",
              "      <td>b'technician'</td>\n",
              "      <td>50</td>\n",
              "      <td>3.0</td>\n",
              "    </tr>\n",
              "  </tbody>\n",
              "</table>\n",
              "</div>"
            ],
            "text/plain": [
              "  movie_id user_id  ...  bucketized_user_age user_rating\n",
              "0   b'357'  b'138'  ...                   45         4.0\n",
              "1   b'709'   b'92'  ...                   25         2.0\n",
              "2   b'412'  b'301'  ...                   18         4.0\n",
              "3    b'56'   b'60'  ...                   50         4.0\n",
              "4   b'895'  b'197'  ...                   50         3.0\n",
              "\n",
              "[5 rows x 7 columns]"
            ]
          },
          "metadata": {},
          "execution_count": 18
        }
      ]
    },
    {
      "cell_type": "code",
      "metadata": {
        "id": "2idJxaLaeN1X"
      },
      "source": [
        "# np.savetxt(dataDir + \"movielensRaj.txt\", df.values, fmt='%s')\n"
      ],
      "execution_count": null,
      "outputs": []
    },
    {
      "cell_type": "code",
      "metadata": {
        "id": "cItgraebzjPZ"
      },
      "source": [
        "new_df = df"
      ],
      "execution_count": null,
      "outputs": []
    },
    {
      "cell_type": "code",
      "metadata": {
        "id": "SCeh0HYczhIJ"
      },
      "source": [
        "    sparse_features = [\"movie_id\", \"user_id\",\n",
        "                       \"user_gender\", \"bucketized_user_age\", \"user_occupation_text\", \"user_zip_code\", ]\n",
        "    target = ['user_rating']\n",
        "\n",
        "    # 1.Label Encoding for sparse features,and process sequence features\n",
        "    for feat in sparse_features:\n",
        "        lbe = LabelEncoder()\n",
        "        df[feat] = lbe.fit_transform(df[feat])\n",
        "    # preprocess the sequence feature"
      ],
      "execution_count": null,
      "outputs": []
    },
    {
      "cell_type": "code",
      "metadata": {
        "colab": {
          "base_uri": "https://localhost:8080/"
        },
        "id": "n0DeM9LSzAJ6",
        "outputId": "ba348e30-8467-4224-b065-060ab9349526"
      },
      "source": [
        "    key2index = {}\n",
        "    # genres_list = list(map(split, data['genres'].values))\n",
        "    # genres_length = np.array(list(map(len, genres_list)))\n",
        "    # max_len = max(genres_length)\n",
        "    # Notice : padding=`post`\n",
        "    # genres_list = pad_sequences(genres_list, maxlen=max_len, padding='post', )\n",
        "\n",
        "    # 2.count #unique features for each sparse field and generate feature config for sequence feature\n",
        "\n",
        "    fixlen_feature_columns = [SparseFeat(feat, df[feat].nunique(), embedding_dim=4)\n",
        "                              for feat in sparse_features]\n",
        "\n",
        "    # varlen_feature_columns = [VarLenSparseFeat(SparseFeat('genres', vocabulary_size=len(\n",
        "        # key2index) + 1, embedding_dim=4), maxlen=max_len, combiner='mean')]  # Notice : value 0 is for padding for sequence input feature\n",
        "\n",
        "    linear_feature_columns = fixlen_feature_columns\n",
        "    dnn_feature_columns = fixlen_feature_columns \n",
        "\n",
        "    feature_names = get_feature_names(linear_feature_columns + dnn_feature_columns)\n",
        "\n",
        "    # 3.generate input data for model\n",
        "    model_input = {name: df[name] for name in sparse_features}  #\n",
        "    # model_input[\"genres\"] = genres_list\n",
        "\n",
        "    # 4.Define Model,compile and train\n",
        "\n",
        "    device = 'cpu'\n",
        "    use_cuda = True\n",
        "    if use_cuda and torch.cuda.is_available():\n",
        "        print('cuda ready...')\n",
        "        device = 'cuda:0'\n"
      ],
      "execution_count": null,
      "outputs": [
        {
          "output_type": "stream",
          "name": "stdout",
          "text": [
            "cuda ready...\n"
          ]
        }
      ]
    },
    {
      "cell_type": "code",
      "metadata": {
        "id": "fd4_Byf2-Y6v"
      },
      "source": [
        "# model_input"
      ],
      "execution_count": null,
      "outputs": []
    },
    {
      "cell_type": "code",
      "metadata": {
        "colab": {
          "base_uri": "https://localhost:8080/"
        },
        "id": "kPpMC1Gq-hZJ",
        "outputId": "71e3400f-c71e-4dfd-ad62-93f32039f40c"
      },
      "source": [
        "# df[target].values"
      ],
      "execution_count": null,
      "outputs": [
        {
          "output_type": "execute_result",
          "data": {
            "text/plain": [
              "array([[4.],\n",
              "       [2.],\n",
              "       [4.],\n",
              "       ...,\n",
              "       [1.],\n",
              "       [4.],\n",
              "       [2.]], dtype=float32)"
            ]
          },
          "metadata": {},
          "execution_count": 48
        }
      ]
    },
    {
      "cell_type": "code",
      "metadata": {
        "colab": {
          "base_uri": "https://localhost:8080/"
        },
        "id": "gw7KvE_f1lCB",
        "outputId": "685e81ee-b760-49b5-86be-63e3987746e9"
      },
      "source": [
        "    model = DeepFM(linear_feature_columns, dnn_feature_columns, task='regression', device=device)\n",
        "\n",
        "    model.compile(\"adam\", \"mse\", metrics=['mse'], )\n",
        "    history = model.fit(model_input, df[target].values, batch_size=256, epochs=10, verbose=2, validation_split=0.2)"
      ],
      "execution_count": null,
      "outputs": [
        {
          "output_type": "stream",
          "name": "stdout",
          "text": [
            "cuda:0\n",
            "Train on 80000 samples, validate on 20000 samples, 313 steps per epoch\n",
            "Epoch 1/10\n",
            "4s - loss:  1.9109 - mse:  1.9096 - val_mse:  0.9140\n",
            "Epoch 2/10\n",
            "3s - loss:  0.8789 - mse:  0.8788 - val_mse:  0.9026\n",
            "Epoch 3/10\n",
            "3s - loss:  0.8652 - mse:  0.8650 - val_mse:  0.8985\n",
            "Epoch 4/10\n",
            "3s - loss:  0.8606 - mse:  0.8607 - val_mse:  0.9110\n",
            "Epoch 5/10\n",
            "4s - loss:  0.8580 - mse:  0.8578 - val_mse:  0.8969\n",
            "Epoch 6/10\n",
            "3s - loss:  0.8555 - mse:  0.8552 - val_mse:  0.8990\n",
            "Epoch 7/10\n",
            "3s - loss:  0.8538 - mse:  0.8537 - val_mse:  0.8962\n",
            "Epoch 8/10\n",
            "3s - loss:  0.8524 - mse:  0.8523 - val_mse:  0.8949\n",
            "Epoch 9/10\n",
            "4s - loss:  0.8515 - mse:  0.8511 - val_mse:  0.8947\n",
            "Epoch 10/10\n",
            "3s - loss:  0.8490 - mse:  0.8492 - val_mse:  0.8938\n"
          ]
        }
      ]
    },
    {
      "cell_type": "code",
      "metadata": {
        "id": "uaEFqmXb9xUV"
      },
      "source": [
        "# history.model.evaluate()"
      ],
      "execution_count": null,
      "outputs": []
    },
    {
      "cell_type": "code",
      "metadata": {
        "colab": {
          "base_uri": "https://localhost:8080/",
          "height": 37
        },
        "id": "-_2WDa33xiHo",
        "outputId": "4305b3e9-287e-483c-8534-64865a8ff78e"
      },
      "source": [
        "dataDir"
      ],
      "execution_count": null,
      "outputs": [
        {
          "output_type": "execute_result",
          "data": {
            "application/vnd.google.colaboratory.intrinsic+json": {
              "type": "string"
            },
            "text/plain": [
              "'/content/drive/MyDrive/'"
            ]
          },
          "metadata": {},
          "execution_count": 39
        }
      ]
    },
    {
      "cell_type": "code",
      "metadata": {
        "id": "4dg4AuW3xMIw"
      },
      "source": [
        "cached_train = train.shuffle(100_000).batch(8192).cache()\n",
        "cached_test = test.batch(4096).cache()"
      ],
      "execution_count": null,
      "outputs": []
    },
    {
      "cell_type": "code",
      "metadata": {
        "id": "szh7O3EixNvr"
      },
      "source": [
        ""
      ],
      "execution_count": null,
      "outputs": []
    },
    {
      "cell_type": "code",
      "metadata": {
        "id": "6BH7YmYR-wiT"
      },
      "source": [
        "epochs = [5, 10, 15, 20]\n",
        "learning_rates = [0.001, 0.005, 0.01, 0.05, 0.1]\n",
        "for epoch in epochs:\n",
        "    print(\"###### Epoch :######\", epoch)\n",
        "    model = DeepFM(linear_feature_columns, dnn_feature_columns, task='regression', device=device)\n",
        "\n",
        "    model.compile(\"adam\", \"mse\", metrics=['mse'])\n",
        "    history = model.fit(model_input, df[target].values, batch_size=256, epochs=epoch, verbose=2, validation_split=0.2)\n"
      ],
      "execution_count": null,
      "outputs": []
    },
    {
      "cell_type": "code",
      "metadata": {
        "id": "Sp4sljisEjtr"
      },
      "source": [
        ""
      ],
      "execution_count": null,
      "outputs": []
    },
    {
      "cell_type": "code",
      "metadata": {
        "colab": {
          "base_uri": "https://localhost:8080/"
        },
        "id": "i3o0wSuPBwER",
        "outputId": "9e413c14-5966-4f2d-8347-526407504a15"
      },
      "source": [
        "    from sklearn.model_selection import train_test_split\n",
        "    from sklearn.metrics import mean_squared_error\n",
        "\n",
        "\n",
        "    key2index = {}\n",
        "    # genres_list = list(map(split, data['genres'].values))\n",
        "    # genres_length = np.array(list(map(len, genres_list)))\n",
        "    # max_len = max(genres_length)\n",
        "    # Notice : padding=`post`\n",
        "    # genres_list = pad_sequences(genres_list, maxlen=max_len, padding='post', )\n",
        "\n",
        "    # 2.count #unique features for each sparse field and generate feature config for sequence feature\n",
        "\n",
        "    fixlen_feature_columns = [SparseFeat(feat, df[feat].nunique(), embedding_dim=4)\n",
        "                              for feat in sparse_features]\n",
        "\n",
        "    # varlen_feature_columns = [VarLenSparseFeat(SparseFeat('genres', vocabulary_size=len(\n",
        "        # key2index) + 1, embedding_dim=4), maxlen=max_len, combiner='mean')]  # Notice : value 0 is for padding for sequence input feature\n",
        "\n",
        "    linear_feature_columns = fixlen_feature_columns\n",
        "    dnn_feature_columns = fixlen_feature_columns \n",
        "\n",
        "    feature_names = get_feature_names(linear_feature_columns + dnn_feature_columns)\n",
        "\n",
        "    # 3.generate input data for model\n",
        "    train, test = train_test_split(df, test_size=0.15)\n",
        "    train_model_input = {name: train[name] for name in feature_names}\n",
        "    test_model_input = {name: test[name] for name in feature_names}\n",
        "    # model_input[\"genres\"] = genres_list\n",
        "\n",
        "    # 4.Define Model,compile and train\n",
        "\n",
        "    device = 'cpu'\n",
        "    use_cuda = True\n",
        "    if use_cuda and torch.cuda.is_available():\n",
        "        print('cuda ready...')\n",
        "        device = 'cuda:0'\n"
      ],
      "execution_count": null,
      "outputs": [
        {
          "output_type": "stream",
          "name": "stdout",
          "text": [
            "cuda ready...\n"
          ]
        }
      ]
    },
    {
      "cell_type": "code",
      "metadata": {
        "colab": {
          "base_uri": "https://localhost:8080/"
        },
        "id": "7GkxLWKECC6Q",
        "outputId": "45a9a1d1-f270-47f7-fbda-66601e622ab1"
      },
      "source": [
        "history = model.fit(train_model_input, train[target].values, batch_size=256, epochs=10, verbose=2,\n",
        "                        validation_split=(10/85))\n",
        "pred_ans = model.predict(test_model_input, batch_size=256)\n",
        "print(\"test MSE\", round(mean_squared_error(test[target].values, pred_ans), 4))"
      ],
      "execution_count": null,
      "outputs": [
        {
          "output_type": "stream",
          "name": "stdout",
          "text": [
            "cuda:0\n",
            "Train on 70588 samples, validate on 9412 samples, 276 steps per epoch\n",
            "Epoch 1/10\n",
            "3s - loss:  0.8320 - mse:  0.8321 - val_mse:  0.8972\n",
            "Epoch 2/10\n",
            "3s - loss:  0.8254 - mse:  0.8253 - val_mse:  0.8939\n",
            "Epoch 3/10\n",
            "3s - loss:  0.8212 - mse:  0.8212 - val_mse:  0.8926\n",
            "Epoch 4/10\n",
            "3s - loss:  0.8184 - mse:  0.8185 - val_mse:  0.8966\n",
            "Epoch 5/10\n",
            "3s - loss:  0.8151 - mse:  0.8151 - val_mse:  0.8977\n",
            "Epoch 6/10\n",
            "3s - loss:  0.8137 - mse:  0.8136 - val_mse:  0.8931\n",
            "Epoch 7/10\n",
            "3s - loss:  0.8108 - mse:  0.8109 - val_mse:  0.8942\n",
            "Epoch 8/10\n",
            "3s - loss:  0.8103 - mse:  0.8102 - val_mse:  0.8914\n",
            "Epoch 9/10\n",
            "3s - loss:  0.8081 - mse:  0.8084 - val_mse:  0.8930\n",
            "Epoch 10/10\n",
            "3s - loss:  0.8060 - mse:  0.8059 - val_mse:  0.8904\n",
            "test MSE 0.8726\n"
          ]
        }
      ]
    },
    {
      "cell_type": "code",
      "metadata": {
        "colab": {
          "base_uri": "https://localhost:8080/"
        },
        "id": "7KZnmsx_CRcK",
        "outputId": "9f0d57fc-4390-4079-e8ca-782c16c4ef15"
      },
      "source": [
        "epochs = [5, 10, 15, 20]\n",
        "for epoch in epochs:\n",
        "    print(\"###### Number of Epochs in current episode : \", epoch,\" ######\")\n",
        "    model = DeepFM(linear_feature_columns, dnn_feature_columns, task='regression', device=device)\n",
        "\n",
        "    model.compile(\"adam\", \"mse\", metrics=['mse'])\n",
        "    history = model.fit(train_model_input, train[target].values, batch_size=256, epochs=epoch, verbose=2, validation_split=(10/85))\n",
        "    pred_ans = model.predict(test_model_input, batch_size=256)\n",
        "    print(\"\\n\")\n",
        "    print(\"test MSE\", round(mean_squared_error(test[target].values, pred_ans), 4))\n",
        "    print(\"\\n\")\n",
        "    print(\"\\n\")"
      ],
      "execution_count": null,
      "outputs": [
        {
          "output_type": "stream",
          "name": "stdout",
          "text": [
            "###### Number of Epochs in current episode :  5  ######\n",
            "cuda:0\n",
            "Train on 70588 samples, validate on 9412 samples, 276 steps per epoch\n",
            "Epoch 1/5\n",
            "3s - loss:  2.0417 - mse:  2.0405 - val_mse:  0.9375\n",
            "Epoch 2/5\n",
            "3s - loss:  0.8794 - mse:  0.8794 - val_mse:  0.9144\n",
            "Epoch 3/5\n",
            "3s - loss:  0.8633 - mse:  0.8633 - val_mse:  0.9153\n",
            "Epoch 4/5\n",
            "3s - loss:  0.8580 - mse:  0.8579 - val_mse:  0.9090\n",
            "Epoch 5/5\n",
            "3s - loss:  0.8547 - mse:  0.8547 - val_mse:  0.9073\n",
            "\n",
            "\n",
            "test MSE 0.893\n",
            "\n",
            "\n",
            "\n",
            "\n",
            "###### Number of Epochs in current episode :  10  ######\n",
            "cuda:0\n",
            "Train on 70588 samples, validate on 9412 samples, 276 steps per epoch\n",
            "Epoch 1/10\n",
            "3s - loss:  2.0417 - mse:  2.0405 - val_mse:  0.9375\n",
            "Epoch 2/10\n",
            "3s - loss:  0.8794 - mse:  0.8794 - val_mse:  0.9144\n",
            "Epoch 3/10\n",
            "3s - loss:  0.8633 - mse:  0.8633 - val_mse:  0.9153\n",
            "Epoch 4/10\n",
            "3s - loss:  0.8580 - mse:  0.8579 - val_mse:  0.9090\n",
            "Epoch 5/10\n",
            "3s - loss:  0.8547 - mse:  0.8547 - val_mse:  0.9073\n",
            "Epoch 6/10\n",
            "3s - loss:  0.8539 - mse:  0.8538 - val_mse:  0.9104\n",
            "Epoch 7/10\n",
            "3s - loss:  0.8528 - mse:  0.8528 - val_mse:  0.9123\n",
            "Epoch 8/10\n",
            "3s - loss:  0.8515 - mse:  0.8515 - val_mse:  0.9162\n",
            "Epoch 9/10\n",
            "3s - loss:  0.8502 - mse:  0.8504 - val_mse:  0.9118\n",
            "Epoch 10/10\n",
            "3s - loss:  0.8492 - mse:  0.8493 - val_mse:  0.9085\n",
            "\n",
            "\n",
            "test MSE 0.8944\n",
            "\n",
            "\n",
            "\n",
            "\n",
            "###### Number of Epochs in current episode :  15  ######\n",
            "cuda:0\n",
            "Train on 70588 samples, validate on 9412 samples, 276 steps per epoch\n",
            "Epoch 1/15\n",
            "3s - loss:  2.0417 - mse:  2.0405 - val_mse:  0.9375\n",
            "Epoch 2/15\n",
            "3s - loss:  0.8794 - mse:  0.8794 - val_mse:  0.9144\n",
            "Epoch 3/15\n",
            "3s - loss:  0.8633 - mse:  0.8633 - val_mse:  0.9153\n",
            "Epoch 4/15\n",
            "3s - loss:  0.8580 - mse:  0.8579 - val_mse:  0.9090\n",
            "Epoch 5/15\n",
            "3s - loss:  0.8547 - mse:  0.8547 - val_mse:  0.9073\n",
            "Epoch 6/15\n",
            "3s - loss:  0.8539 - mse:  0.8538 - val_mse:  0.9104\n",
            "Epoch 7/15\n",
            "3s - loss:  0.8528 - mse:  0.8528 - val_mse:  0.9123\n",
            "Epoch 8/15\n",
            "3s - loss:  0.8515 - mse:  0.8515 - val_mse:  0.9162\n",
            "Epoch 9/15\n",
            "3s - loss:  0.8502 - mse:  0.8504 - val_mse:  0.9118\n",
            "Epoch 10/15\n",
            "3s - loss:  0.8492 - mse:  0.8493 - val_mse:  0.9085\n",
            "Epoch 11/15\n",
            "3s - loss:  0.8496 - mse:  0.8496 - val_mse:  0.9087\n",
            "Epoch 12/15\n",
            "3s - loss:  0.8484 - mse:  0.8484 - val_mse:  0.9143\n",
            "Epoch 13/15\n",
            "3s - loss:  0.8479 - mse:  0.8480 - val_mse:  0.9135\n",
            "Epoch 14/15\n",
            "3s - loss:  0.8475 - mse:  0.8475 - val_mse:  0.9085\n",
            "Epoch 15/15\n",
            "3s - loss:  0.8447 - mse:  0.8446 - val_mse:  0.9107\n",
            "\n",
            "\n",
            "test MSE 0.8963\n",
            "\n",
            "\n",
            "\n",
            "\n",
            "###### Number of Epochs in current episode :  20  ######\n",
            "cuda:0\n",
            "Train on 70588 samples, validate on 9412 samples, 276 steps per epoch\n",
            "Epoch 1/20\n",
            "3s - loss:  2.0417 - mse:  2.0405 - val_mse:  0.9375\n",
            "Epoch 2/20\n",
            "3s - loss:  0.8794 - mse:  0.8794 - val_mse:  0.9144\n",
            "Epoch 3/20\n",
            "3s - loss:  0.8633 - mse:  0.8633 - val_mse:  0.9153\n",
            "Epoch 4/20\n",
            "3s - loss:  0.8580 - mse:  0.8579 - val_mse:  0.9090\n",
            "Epoch 5/20\n",
            "3s - loss:  0.8547 - mse:  0.8547 - val_mse:  0.9073\n",
            "Epoch 6/20\n",
            "3s - loss:  0.8539 - mse:  0.8538 - val_mse:  0.9104\n",
            "Epoch 7/20\n",
            "3s - loss:  0.8528 - mse:  0.8528 - val_mse:  0.9123\n",
            "Epoch 8/20\n",
            "3s - loss:  0.8515 - mse:  0.8515 - val_mse:  0.9162\n",
            "Epoch 9/20\n",
            "3s - loss:  0.8502 - mse:  0.8504 - val_mse:  0.9118\n",
            "Epoch 10/20\n",
            "3s - loss:  0.8492 - mse:  0.8493 - val_mse:  0.9085\n",
            "Epoch 11/20\n",
            "3s - loss:  0.8496 - mse:  0.8496 - val_mse:  0.9087\n",
            "Epoch 12/20\n",
            "3s - loss:  0.8484 - mse:  0.8484 - val_mse:  0.9143\n",
            "Epoch 13/20\n",
            "3s - loss:  0.8479 - mse:  0.8480 - val_mse:  0.9135\n",
            "Epoch 14/20\n",
            "3s - loss:  0.8475 - mse:  0.8475 - val_mse:  0.9085\n",
            "Epoch 15/20\n",
            "3s - loss:  0.8447 - mse:  0.8446 - val_mse:  0.9107\n",
            "Epoch 16/20\n",
            "3s - loss:  0.8446 - mse:  0.8447 - val_mse:  0.9139\n",
            "Epoch 17/20\n",
            "3s - loss:  0.8447 - mse:  0.8447 - val_mse:  0.9079\n",
            "Epoch 18/20\n",
            "3s - loss:  0.8439 - mse:  0.8440 - val_mse:  0.9118\n",
            "Epoch 19/20\n",
            "3s - loss:  0.8433 - mse:  0.8433 - val_mse:  0.9055\n",
            "Epoch 20/20\n",
            "3s - loss:  0.8418 - mse:  0.8418 - val_mse:  0.9062\n",
            "\n",
            "\n",
            "test MSE 0.8908\n",
            "\n",
            "\n",
            "\n",
            "\n"
          ]
        }
      ]
    },
    {
      "cell_type": "code",
      "metadata": {
        "id": "zMle4dJtH1Q9"
      },
      "source": [
        "epochs = [5, 10, 15, 20]\n",
        "for epoch in epochs:\n",
        "    print(\"###### Number of Epochs in current episode : \", epoch,\" ######\")\n",
        "    model = DeepFM(linear_feature_columns, dnn_feature_columns, task='regression', device=device)\n",
        "\n",
        "    model.compile(\"adam\", \"mse\", metrics=['mse'])\n",
        "    history = model.fit(train_model_input, train[target].values, batch_size=256, epochs=epoch, verbose=2, validation_split=(10/85))\n",
        "    pred_ans = model.predict(test_model_input, batch_size=256)\n",
        "    print(\"\\n\")\n",
        "    print(\"test MSE\", round(mean_squared_error(test[target].values, pred_ans), 4))\n",
        "    print(\"\\n\")\n",
        "    print(\"\\n\")"
      ],
      "execution_count": null,
      "outputs": []
    },
    {
      "cell_type": "code",
      "metadata": {
        "id": "512rCoVfIECO"
      },
      "source": [
        "def run_models(epochs=8,\n",
        "               num_runs=3):\n",
        "  models = []\n",
        "  mses = []\n",
        "\n",
        "  for i in range(num_runs):\n",
        "    model = DeepFM(linear_feature_columns, dnn_feature_columns, task='regression', device=device)\n",
        "    model.compile(\"adam\", \"mse\", metrics=['mse'])\n",
        "    models.append(model)\n",
        "    history = model.fit(train_model_input, train[target].values, batch_size=256, epochs=epoch, verbose=2, validation_split=(10/85))\n",
        "    pred_ans = model.predict(test_model_input, batch_size=256)\n",
        "\n",
        "    \n",
        "    mses.append(mean_squared_error(test[target].values, pred_ans))\n",
        "\n",
        "  mean = np.average(mses)\n",
        "\n",
        "  return {\"model\": models, \"mean\": mean, \"history\": history}"
      ],
      "execution_count": null,
      "outputs": []
    },
    {
      "cell_type": "code",
      "metadata": {
        "id": "o1c0RYthIzxQ"
      },
      "source": [
        "def hyperTest(use_cross_layer=True, parallel=True, projection_dim=None):\n",
        "  epochs = [5, 10, 15, 20]\n",
        "  # learning_rates = [0.001, 0.005, 0.01, 0.05, 0.1]\n",
        "  # deep_layer_sizes = [[192, 192], [256, 128], [512, 256, 128]]\n",
        "\n",
        "  best_params = None\n",
        "  best_metric = 100000\n",
        "  best_model = None\n",
        "  params = []\n",
        "  for epoch in epochs:\n",
        "        temp_result = run_models(\n",
        "                                 epochs=epoch, \n",
        "                                 )\n",
        "        param = dict([('epoch', epoch), \n",
        "                      ('mean', temp_result['mean']), \n",
        "                      ('history', temp_result['history'])])\n",
        "        print(param)\n",
        "        params.append(param)\n",
        "        if best_metric > temp_result[\"mean\"]:\n",
        "          best_metric = temp_result[\"mean\"]\n",
        "          best_params = param\n",
        "          best_model = temp_result\n",
        "  \n",
        "  return {'best_metric': best_metric, 'best_params': best_params, 'best_model': best_model, 'params': params}"
      ],
      "execution_count": null,
      "outputs": []
    },
    {
      "cell_type": "code",
      "metadata": {
        "colab": {
          "base_uri": "https://localhost:8080/"
        },
        "id": "rNp7_tEkJdtR",
        "outputId": "a2056f72-e039-4326-d99e-b35fcca1f372"
      },
      "source": [
        "hyper_result = hyperTest()"
      ],
      "execution_count": null,
      "outputs": [
        {
          "output_type": "stream",
          "name": "stdout",
          "text": [
            "cuda:0\n",
            "Train on 70588 samples, validate on 9412 samples, 276 steps per epoch\n",
            "Epoch 1/20\n",
            "3s - loss:  2.0417 - mse:  2.0405 - val_mse:  0.9375\n",
            "Epoch 2/20\n",
            "3s - loss:  0.8794 - mse:  0.8794 - val_mse:  0.9144\n",
            "Epoch 3/20\n",
            "3s - loss:  0.8633 - mse:  0.8633 - val_mse:  0.9153\n",
            "Epoch 4/20\n",
            "3s - loss:  0.8580 - mse:  0.8579 - val_mse:  0.9090\n",
            "Epoch 5/20\n",
            "3s - loss:  0.8547 - mse:  0.8547 - val_mse:  0.9073\n",
            "Epoch 6/20\n",
            "3s - loss:  0.8539 - mse:  0.8538 - val_mse:  0.9104\n",
            "Epoch 7/20\n",
            "3s - loss:  0.8528 - mse:  0.8528 - val_mse:  0.9123\n",
            "Epoch 8/20\n",
            "3s - loss:  0.8515 - mse:  0.8515 - val_mse:  0.9162\n",
            "Epoch 9/20\n",
            "3s - loss:  0.8502 - mse:  0.8504 - val_mse:  0.9118\n",
            "Epoch 10/20\n",
            "3s - loss:  0.8492 - mse:  0.8493 - val_mse:  0.9085\n",
            "Epoch 11/20\n",
            "3s - loss:  0.8496 - mse:  0.8496 - val_mse:  0.9087\n",
            "Epoch 12/20\n",
            "3s - loss:  0.8484 - mse:  0.8484 - val_mse:  0.9143\n",
            "Epoch 13/20\n",
            "3s - loss:  0.8479 - mse:  0.8480 - val_mse:  0.9135\n",
            "Epoch 14/20\n",
            "3s - loss:  0.8475 - mse:  0.8475 - val_mse:  0.9085\n",
            "Epoch 15/20\n",
            "3s - loss:  0.8447 - mse:  0.8446 - val_mse:  0.9107\n",
            "Epoch 16/20\n",
            "3s - loss:  0.8446 - mse:  0.8447 - val_mse:  0.9139\n",
            "Epoch 17/20\n",
            "3s - loss:  0.8447 - mse:  0.8447 - val_mse:  0.9079\n",
            "Epoch 18/20\n",
            "3s - loss:  0.8439 - mse:  0.8440 - val_mse:  0.9118\n",
            "Epoch 19/20\n",
            "3s - loss:  0.8433 - mse:  0.8433 - val_mse:  0.9055\n",
            "Epoch 20/20\n",
            "3s - loss:  0.8418 - mse:  0.8418 - val_mse:  0.9062\n",
            "cuda:0\n",
            "Train on 70588 samples, validate on 9412 samples, 276 steps per epoch\n",
            "Epoch 1/20\n",
            "3s - loss:  2.0417 - mse:  2.0405 - val_mse:  0.9375\n",
            "Epoch 2/20\n",
            "3s - loss:  0.8794 - mse:  0.8794 - val_mse:  0.9144\n",
            "Epoch 3/20\n",
            "3s - loss:  0.8633 - mse:  0.8633 - val_mse:  0.9153\n",
            "Epoch 4/20\n",
            "3s - loss:  0.8580 - mse:  0.8579 - val_mse:  0.9090\n",
            "Epoch 5/20\n",
            "3s - loss:  0.8547 - mse:  0.8547 - val_mse:  0.9073\n",
            "Epoch 6/20\n",
            "3s - loss:  0.8539 - mse:  0.8538 - val_mse:  0.9104\n",
            "Epoch 7/20\n",
            "3s - loss:  0.8528 - mse:  0.8528 - val_mse:  0.9123\n",
            "Epoch 8/20\n",
            "3s - loss:  0.8515 - mse:  0.8515 - val_mse:  0.9162\n",
            "Epoch 9/20\n",
            "3s - loss:  0.8502 - mse:  0.8504 - val_mse:  0.9118\n",
            "Epoch 10/20\n",
            "3s - loss:  0.8492 - mse:  0.8493 - val_mse:  0.9085\n",
            "Epoch 11/20\n",
            "3s - loss:  0.8496 - mse:  0.8496 - val_mse:  0.9087\n",
            "Epoch 12/20\n",
            "3s - loss:  0.8484 - mse:  0.8484 - val_mse:  0.9143\n",
            "Epoch 13/20\n",
            "3s - loss:  0.8479 - mse:  0.8480 - val_mse:  0.9135\n",
            "Epoch 14/20\n",
            "3s - loss:  0.8475 - mse:  0.8475 - val_mse:  0.9085\n",
            "Epoch 15/20\n",
            "3s - loss:  0.8447 - mse:  0.8446 - val_mse:  0.9107\n",
            "Epoch 16/20\n",
            "3s - loss:  0.8446 - mse:  0.8447 - val_mse:  0.9139\n",
            "Epoch 17/20\n",
            "3s - loss:  0.8447 - mse:  0.8447 - val_mse:  0.9079\n",
            "Epoch 18/20\n",
            "3s - loss:  0.8439 - mse:  0.8440 - val_mse:  0.9118\n",
            "Epoch 19/20\n",
            "3s - loss:  0.8433 - mse:  0.8433 - val_mse:  0.9055\n",
            "Epoch 20/20\n",
            "3s - loss:  0.8418 - mse:  0.8418 - val_mse:  0.9062\n",
            "cuda:0\n",
            "Train on 70588 samples, validate on 9412 samples, 276 steps per epoch\n",
            "Epoch 1/20\n",
            "3s - loss:  2.0417 - mse:  2.0405 - val_mse:  0.9375\n",
            "Epoch 2/20\n",
            "3s - loss:  0.8794 - mse:  0.8794 - val_mse:  0.9144\n",
            "Epoch 3/20\n",
            "3s - loss:  0.8633 - mse:  0.8633 - val_mse:  0.9153\n",
            "Epoch 4/20\n",
            "3s - loss:  0.8580 - mse:  0.8579 - val_mse:  0.9090\n",
            "Epoch 5/20\n",
            "3s - loss:  0.8547 - mse:  0.8547 - val_mse:  0.9073\n",
            "Epoch 6/20\n",
            "3s - loss:  0.8539 - mse:  0.8538 - val_mse:  0.9104\n",
            "Epoch 7/20\n",
            "3s - loss:  0.8528 - mse:  0.8528 - val_mse:  0.9123\n",
            "Epoch 8/20\n",
            "3s - loss:  0.8515 - mse:  0.8515 - val_mse:  0.9162\n",
            "Epoch 9/20\n",
            "3s - loss:  0.8502 - mse:  0.8504 - val_mse:  0.9118\n",
            "Epoch 10/20\n",
            "3s - loss:  0.8492 - mse:  0.8493 - val_mse:  0.9085\n",
            "Epoch 11/20\n",
            "3s - loss:  0.8496 - mse:  0.8496 - val_mse:  0.9087\n",
            "Epoch 12/20\n",
            "3s - loss:  0.8484 - mse:  0.8484 - val_mse:  0.9143\n",
            "Epoch 13/20\n",
            "3s - loss:  0.8479 - mse:  0.8480 - val_mse:  0.9135\n",
            "Epoch 14/20\n",
            "3s - loss:  0.8475 - mse:  0.8475 - val_mse:  0.9085\n",
            "Epoch 15/20\n",
            "3s - loss:  0.8447 - mse:  0.8446 - val_mse:  0.9107\n",
            "Epoch 16/20\n",
            "3s - loss:  0.8446 - mse:  0.8447 - val_mse:  0.9139\n",
            "Epoch 17/20\n",
            "3s - loss:  0.8447 - mse:  0.8447 - val_mse:  0.9079\n",
            "Epoch 18/20\n",
            "3s - loss:  0.8439 - mse:  0.8440 - val_mse:  0.9118\n",
            "Epoch 19/20\n",
            "3s - loss:  0.8433 - mse:  0.8433 - val_mse:  0.9055\n",
            "Epoch 20/20\n",
            "3s - loss:  0.8418 - mse:  0.8418 - val_mse:  0.9062\n",
            "{'epoch': 5, 'mean': 0.8908200619090696, 'history': <tensorflow.python.keras.callbacks.History object at 0x7fccf5d0d950>}\n",
            "cuda:0\n",
            "Train on 70588 samples, validate on 9412 samples, 276 steps per epoch\n",
            "Epoch 1/20\n",
            "3s - loss:  2.0417 - mse:  2.0405 - val_mse:  0.9375\n",
            "Epoch 2/20\n",
            "3s - loss:  0.8794 - mse:  0.8794 - val_mse:  0.9144\n",
            "Epoch 3/20\n",
            "3s - loss:  0.8633 - mse:  0.8633 - val_mse:  0.9153\n",
            "Epoch 4/20\n",
            "3s - loss:  0.8580 - mse:  0.8579 - val_mse:  0.9090\n",
            "Epoch 5/20\n",
            "3s - loss:  0.8547 - mse:  0.8547 - val_mse:  0.9073\n",
            "Epoch 6/20\n",
            "3s - loss:  0.8539 - mse:  0.8538 - val_mse:  0.9104\n",
            "Epoch 7/20\n",
            "3s - loss:  0.8528 - mse:  0.8528 - val_mse:  0.9123\n",
            "Epoch 8/20\n",
            "3s - loss:  0.8515 - mse:  0.8515 - val_mse:  0.9162\n",
            "Epoch 9/20\n",
            "3s - loss:  0.8502 - mse:  0.8504 - val_mse:  0.9118\n",
            "Epoch 10/20\n",
            "3s - loss:  0.8492 - mse:  0.8493 - val_mse:  0.9085\n",
            "Epoch 11/20\n",
            "3s - loss:  0.8496 - mse:  0.8496 - val_mse:  0.9087\n",
            "Epoch 12/20\n",
            "3s - loss:  0.8484 - mse:  0.8484 - val_mse:  0.9143\n",
            "Epoch 13/20\n",
            "3s - loss:  0.8479 - mse:  0.8480 - val_mse:  0.9135\n",
            "Epoch 14/20\n",
            "3s - loss:  0.8475 - mse:  0.8475 - val_mse:  0.9085\n",
            "Epoch 15/20\n",
            "3s - loss:  0.8447 - mse:  0.8446 - val_mse:  0.9107\n",
            "Epoch 16/20\n",
            "3s - loss:  0.8446 - mse:  0.8447 - val_mse:  0.9139\n",
            "Epoch 17/20\n",
            "3s - loss:  0.8447 - mse:  0.8447 - val_mse:  0.9079\n",
            "Epoch 18/20\n",
            "3s - loss:  0.8439 - mse:  0.8440 - val_mse:  0.9118\n",
            "Epoch 19/20\n",
            "3s - loss:  0.8433 - mse:  0.8433 - val_mse:  0.9055\n",
            "Epoch 20/20\n",
            "3s - loss:  0.8418 - mse:  0.8418 - val_mse:  0.9062\n",
            "cuda:0\n",
            "Train on 70588 samples, validate on 9412 samples, 276 steps per epoch\n",
            "Epoch 1/20\n",
            "3s - loss:  2.0417 - mse:  2.0405 - val_mse:  0.9375\n",
            "Epoch 2/20\n",
            "3s - loss:  0.8794 - mse:  0.8794 - val_mse:  0.9144\n",
            "Epoch 3/20\n",
            "3s - loss:  0.8633 - mse:  0.8633 - val_mse:  0.9153\n",
            "Epoch 4/20\n",
            "3s - loss:  0.8580 - mse:  0.8579 - val_mse:  0.9090\n",
            "Epoch 5/20\n",
            "3s - loss:  0.8547 - mse:  0.8547 - val_mse:  0.9073\n",
            "Epoch 6/20\n",
            "3s - loss:  0.8539 - mse:  0.8538 - val_mse:  0.9104\n",
            "Epoch 7/20\n",
            "3s - loss:  0.8528 - mse:  0.8528 - val_mse:  0.9123\n",
            "Epoch 8/20\n",
            "3s - loss:  0.8515 - mse:  0.8515 - val_mse:  0.9162\n",
            "Epoch 9/20\n",
            "3s - loss:  0.8502 - mse:  0.8504 - val_mse:  0.9118\n",
            "Epoch 10/20\n",
            "3s - loss:  0.8492 - mse:  0.8493 - val_mse:  0.9085\n",
            "Epoch 11/20\n",
            "3s - loss:  0.8496 - mse:  0.8496 - val_mse:  0.9087\n",
            "Epoch 12/20\n",
            "3s - loss:  0.8484 - mse:  0.8484 - val_mse:  0.9143\n",
            "Epoch 13/20\n",
            "3s - loss:  0.8479 - mse:  0.8480 - val_mse:  0.9135\n",
            "Epoch 14/20\n",
            "3s - loss:  0.8475 - mse:  0.8475 - val_mse:  0.9085\n",
            "Epoch 15/20\n",
            "3s - loss:  0.8447 - mse:  0.8446 - val_mse:  0.9107\n",
            "Epoch 16/20\n",
            "3s - loss:  0.8446 - mse:  0.8447 - val_mse:  0.9139\n",
            "Epoch 17/20\n",
            "3s - loss:  0.8447 - mse:  0.8447 - val_mse:  0.9079\n",
            "Epoch 18/20\n",
            "3s - loss:  0.8439 - mse:  0.8440 - val_mse:  0.9118\n",
            "Epoch 19/20\n",
            "3s - loss:  0.8433 - mse:  0.8433 - val_mse:  0.9055\n",
            "Epoch 20/20\n",
            "3s - loss:  0.8418 - mse:  0.8418 - val_mse:  0.9062\n",
            "cuda:0\n",
            "Train on 70588 samples, validate on 9412 samples, 276 steps per epoch\n",
            "Epoch 1/20\n",
            "3s - loss:  2.0417 - mse:  2.0405 - val_mse:  0.9375\n",
            "Epoch 2/20\n",
            "3s - loss:  0.8794 - mse:  0.8794 - val_mse:  0.9144\n",
            "Epoch 3/20\n",
            "3s - loss:  0.8633 - mse:  0.8633 - val_mse:  0.9153\n",
            "Epoch 4/20\n",
            "3s - loss:  0.8580 - mse:  0.8579 - val_mse:  0.9090\n",
            "Epoch 5/20\n",
            "3s - loss:  0.8547 - mse:  0.8547 - val_mse:  0.9073\n",
            "Epoch 6/20\n",
            "3s - loss:  0.8539 - mse:  0.8538 - val_mse:  0.9104\n",
            "Epoch 7/20\n",
            "3s - loss:  0.8528 - mse:  0.8528 - val_mse:  0.9123\n",
            "Epoch 8/20\n",
            "3s - loss:  0.8515 - mse:  0.8515 - val_mse:  0.9162\n",
            "Epoch 9/20\n",
            "3s - loss:  0.8502 - mse:  0.8504 - val_mse:  0.9118\n",
            "Epoch 10/20\n",
            "3s - loss:  0.8492 - mse:  0.8493 - val_mse:  0.9085\n",
            "Epoch 11/20\n",
            "3s - loss:  0.8496 - mse:  0.8496 - val_mse:  0.9087\n",
            "Epoch 12/20\n",
            "3s - loss:  0.8484 - mse:  0.8484 - val_mse:  0.9143\n",
            "Epoch 13/20\n",
            "3s - loss:  0.8479 - mse:  0.8480 - val_mse:  0.9135\n",
            "Epoch 14/20\n",
            "3s - loss:  0.8475 - mse:  0.8475 - val_mse:  0.9085\n",
            "Epoch 15/20\n",
            "3s - loss:  0.8447 - mse:  0.8446 - val_mse:  0.9107\n",
            "Epoch 16/20\n",
            "3s - loss:  0.8446 - mse:  0.8447 - val_mse:  0.9139\n",
            "Epoch 17/20\n",
            "3s - loss:  0.8447 - mse:  0.8447 - val_mse:  0.9079\n",
            "Epoch 18/20\n",
            "3s - loss:  0.8439 - mse:  0.8440 - val_mse:  0.9118\n",
            "Epoch 19/20\n",
            "3s - loss:  0.8433 - mse:  0.8433 - val_mse:  0.9055\n",
            "Epoch 20/20\n",
            "3s - loss:  0.8418 - mse:  0.8418 - val_mse:  0.9062\n",
            "{'epoch': 10, 'mean': 0.8908200619090696, 'history': <tensorflow.python.keras.callbacks.History object at 0x7fccf5de7050>}\n",
            "cuda:0\n",
            "Train on 70588 samples, validate on 9412 samples, 276 steps per epoch\n",
            "Epoch 1/20\n",
            "3s - loss:  2.0417 - mse:  2.0405 - val_mse:  0.9375\n",
            "Epoch 2/20\n",
            "3s - loss:  0.8794 - mse:  0.8794 - val_mse:  0.9144\n",
            "Epoch 3/20\n",
            "3s - loss:  0.8633 - mse:  0.8633 - val_mse:  0.9153\n",
            "Epoch 4/20\n",
            "3s - loss:  0.8580 - mse:  0.8579 - val_mse:  0.9090\n",
            "Epoch 5/20\n",
            "3s - loss:  0.8547 - mse:  0.8547 - val_mse:  0.9073\n",
            "Epoch 6/20\n",
            "3s - loss:  0.8539 - mse:  0.8538 - val_mse:  0.9104\n",
            "Epoch 7/20\n",
            "3s - loss:  0.8528 - mse:  0.8528 - val_mse:  0.9123\n",
            "Epoch 8/20\n",
            "3s - loss:  0.8515 - mse:  0.8515 - val_mse:  0.9162\n",
            "Epoch 9/20\n",
            "3s - loss:  0.8502 - mse:  0.8504 - val_mse:  0.9118\n",
            "Epoch 10/20\n",
            "3s - loss:  0.8492 - mse:  0.8493 - val_mse:  0.9085\n",
            "Epoch 11/20\n",
            "3s - loss:  0.8496 - mse:  0.8496 - val_mse:  0.9087\n",
            "Epoch 12/20\n",
            "3s - loss:  0.8484 - mse:  0.8484 - val_mse:  0.9143\n",
            "Epoch 13/20\n",
            "3s - loss:  0.8479 - mse:  0.8480 - val_mse:  0.9135\n",
            "Epoch 14/20\n",
            "3s - loss:  0.8475 - mse:  0.8475 - val_mse:  0.9085\n",
            "Epoch 15/20\n",
            "3s - loss:  0.8447 - mse:  0.8446 - val_mse:  0.9107\n",
            "Epoch 16/20\n",
            "3s - loss:  0.8446 - mse:  0.8447 - val_mse:  0.9139\n",
            "Epoch 17/20\n",
            "3s - loss:  0.8447 - mse:  0.8447 - val_mse:  0.9079\n",
            "Epoch 18/20\n",
            "3s - loss:  0.8439 - mse:  0.8440 - val_mse:  0.9118\n",
            "Epoch 19/20\n",
            "3s - loss:  0.8433 - mse:  0.8433 - val_mse:  0.9055\n",
            "Epoch 20/20\n",
            "3s - loss:  0.8418 - mse:  0.8418 - val_mse:  0.9062\n",
            "cuda:0\n",
            "Train on 70588 samples, validate on 9412 samples, 276 steps per epoch\n",
            "Epoch 1/20\n",
            "3s - loss:  2.0417 - mse:  2.0405 - val_mse:  0.9375\n",
            "Epoch 2/20\n",
            "3s - loss:  0.8794 - mse:  0.8794 - val_mse:  0.9144\n",
            "Epoch 3/20\n",
            "3s - loss:  0.8633 - mse:  0.8633 - val_mse:  0.9153\n",
            "Epoch 4/20\n",
            "3s - loss:  0.8580 - mse:  0.8579 - val_mse:  0.9090\n",
            "Epoch 5/20\n",
            "3s - loss:  0.8547 - mse:  0.8547 - val_mse:  0.9073\n",
            "Epoch 6/20\n",
            "3s - loss:  0.8539 - mse:  0.8538 - val_mse:  0.9104\n",
            "Epoch 7/20\n",
            "3s - loss:  0.8528 - mse:  0.8528 - val_mse:  0.9123\n",
            "Epoch 8/20\n",
            "3s - loss:  0.8515 - mse:  0.8515 - val_mse:  0.9162\n",
            "Epoch 9/20\n",
            "3s - loss:  0.8502 - mse:  0.8504 - val_mse:  0.9118\n",
            "Epoch 10/20\n",
            "3s - loss:  0.8492 - mse:  0.8493 - val_mse:  0.9085\n",
            "Epoch 11/20\n",
            "3s - loss:  0.8496 - mse:  0.8496 - val_mse:  0.9087\n",
            "Epoch 12/20\n",
            "3s - loss:  0.8484 - mse:  0.8484 - val_mse:  0.9143\n",
            "Epoch 13/20\n",
            "3s - loss:  0.8479 - mse:  0.8480 - val_mse:  0.9135\n",
            "Epoch 14/20\n",
            "3s - loss:  0.8475 - mse:  0.8475 - val_mse:  0.9085\n",
            "Epoch 15/20\n",
            "3s - loss:  0.8447 - mse:  0.8446 - val_mse:  0.9107\n",
            "Epoch 16/20\n",
            "3s - loss:  0.8446 - mse:  0.8447 - val_mse:  0.9139\n",
            "Epoch 17/20\n",
            "3s - loss:  0.8447 - mse:  0.8447 - val_mse:  0.9079\n",
            "Epoch 18/20\n",
            "3s - loss:  0.8439 - mse:  0.8440 - val_mse:  0.9118\n",
            "Epoch 19/20\n",
            "3s - loss:  0.8433 - mse:  0.8433 - val_mse:  0.9055\n",
            "Epoch 20/20\n",
            "3s - loss:  0.8418 - mse:  0.8418 - val_mse:  0.9062\n",
            "cuda:0\n",
            "Train on 70588 samples, validate on 9412 samples, 276 steps per epoch\n",
            "Epoch 1/20\n",
            "3s - loss:  2.0417 - mse:  2.0405 - val_mse:  0.9375\n",
            "Epoch 2/20\n",
            "3s - loss:  0.8794 - mse:  0.8794 - val_mse:  0.9144\n",
            "Epoch 3/20\n",
            "3s - loss:  0.8633 - mse:  0.8633 - val_mse:  0.9153\n",
            "Epoch 4/20\n",
            "3s - loss:  0.8580 - mse:  0.8579 - val_mse:  0.9090\n",
            "Epoch 5/20\n",
            "3s - loss:  0.8547 - mse:  0.8547 - val_mse:  0.9073\n",
            "Epoch 6/20\n",
            "3s - loss:  0.8539 - mse:  0.8538 - val_mse:  0.9104\n",
            "Epoch 7/20\n",
            "3s - loss:  0.8528 - mse:  0.8528 - val_mse:  0.9123\n",
            "Epoch 8/20\n",
            "3s - loss:  0.8515 - mse:  0.8515 - val_mse:  0.9162\n",
            "Epoch 9/20\n",
            "3s - loss:  0.8502 - mse:  0.8504 - val_mse:  0.9118\n",
            "Epoch 10/20\n",
            "3s - loss:  0.8492 - mse:  0.8493 - val_mse:  0.9085\n",
            "Epoch 11/20\n",
            "3s - loss:  0.8496 - mse:  0.8496 - val_mse:  0.9087\n",
            "Epoch 12/20\n",
            "3s - loss:  0.8484 - mse:  0.8484 - val_mse:  0.9143\n",
            "Epoch 13/20\n",
            "3s - loss:  0.8479 - mse:  0.8480 - val_mse:  0.9135\n",
            "Epoch 14/20\n",
            "3s - loss:  0.8475 - mse:  0.8475 - val_mse:  0.9085\n",
            "Epoch 15/20\n",
            "3s - loss:  0.8447 - mse:  0.8446 - val_mse:  0.9107\n",
            "Epoch 16/20\n",
            "3s - loss:  0.8446 - mse:  0.8447 - val_mse:  0.9139\n",
            "Epoch 17/20\n",
            "3s - loss:  0.8447 - mse:  0.8447 - val_mse:  0.9079\n",
            "Epoch 18/20\n",
            "3s - loss:  0.8439 - mse:  0.8440 - val_mse:  0.9118\n",
            "Epoch 19/20\n",
            "3s - loss:  0.8433 - mse:  0.8433 - val_mse:  0.9055\n",
            "Epoch 20/20\n",
            "3s - loss:  0.8418 - mse:  0.8418 - val_mse:  0.9062\n",
            "{'epoch': 15, 'mean': 0.8908200619090696, 'history': <tensorflow.python.keras.callbacks.History object at 0x7fccf5711810>}\n",
            "cuda:0\n",
            "Train on 70588 samples, validate on 9412 samples, 276 steps per epoch\n",
            "Epoch 1/20\n",
            "3s - loss:  2.0417 - mse:  2.0405 - val_mse:  0.9375\n",
            "Epoch 2/20\n",
            "3s - loss:  0.8794 - mse:  0.8794 - val_mse:  0.9144\n",
            "Epoch 3/20\n",
            "3s - loss:  0.8633 - mse:  0.8633 - val_mse:  0.9153\n",
            "Epoch 4/20\n",
            "3s - loss:  0.8580 - mse:  0.8579 - val_mse:  0.9090\n",
            "Epoch 5/20\n",
            "3s - loss:  0.8547 - mse:  0.8547 - val_mse:  0.9073\n",
            "Epoch 6/20\n",
            "3s - loss:  0.8539 - mse:  0.8538 - val_mse:  0.9104\n",
            "Epoch 7/20\n",
            "3s - loss:  0.8528 - mse:  0.8528 - val_mse:  0.9123\n",
            "Epoch 8/20\n",
            "3s - loss:  0.8515 - mse:  0.8515 - val_mse:  0.9162\n",
            "Epoch 9/20\n",
            "3s - loss:  0.8502 - mse:  0.8504 - val_mse:  0.9118\n",
            "Epoch 10/20\n",
            "3s - loss:  0.8492 - mse:  0.8493 - val_mse:  0.9085\n",
            "Epoch 11/20\n",
            "3s - loss:  0.8496 - mse:  0.8496 - val_mse:  0.9087\n",
            "Epoch 12/20\n",
            "3s - loss:  0.8484 - mse:  0.8484 - val_mse:  0.9143\n",
            "Epoch 13/20\n",
            "3s - loss:  0.8479 - mse:  0.8480 - val_mse:  0.9135\n",
            "Epoch 14/20\n",
            "3s - loss:  0.8475 - mse:  0.8475 - val_mse:  0.9085\n",
            "Epoch 15/20\n",
            "3s - loss:  0.8447 - mse:  0.8446 - val_mse:  0.9107\n",
            "Epoch 16/20\n",
            "3s - loss:  0.8446 - mse:  0.8447 - val_mse:  0.9139\n",
            "Epoch 17/20\n",
            "3s - loss:  0.8447 - mse:  0.8447 - val_mse:  0.9079\n",
            "Epoch 18/20\n",
            "3s - loss:  0.8439 - mse:  0.8440 - val_mse:  0.9118\n",
            "Epoch 19/20\n",
            "3s - loss:  0.8433 - mse:  0.8433 - val_mse:  0.9055\n",
            "Epoch 20/20\n",
            "3s - loss:  0.8418 - mse:  0.8418 - val_mse:  0.9062\n",
            "cuda:0\n",
            "Train on 70588 samples, validate on 9412 samples, 276 steps per epoch\n",
            "Epoch 1/20\n",
            "3s - loss:  2.0417 - mse:  2.0405 - val_mse:  0.9375\n",
            "Epoch 2/20\n",
            "3s - loss:  0.8794 - mse:  0.8794 - val_mse:  0.9144\n",
            "Epoch 3/20\n",
            "3s - loss:  0.8633 - mse:  0.8633 - val_mse:  0.9153\n",
            "Epoch 4/20\n",
            "3s - loss:  0.8580 - mse:  0.8579 - val_mse:  0.9090\n",
            "Epoch 5/20\n",
            "3s - loss:  0.8547 - mse:  0.8547 - val_mse:  0.9073\n",
            "Epoch 6/20\n",
            "3s - loss:  0.8539 - mse:  0.8538 - val_mse:  0.9104\n",
            "Epoch 7/20\n",
            "3s - loss:  0.8528 - mse:  0.8528 - val_mse:  0.9123\n",
            "Epoch 8/20\n",
            "3s - loss:  0.8515 - mse:  0.8515 - val_mse:  0.9162\n",
            "Epoch 9/20\n",
            "3s - loss:  0.8502 - mse:  0.8504 - val_mse:  0.9118\n",
            "Epoch 10/20\n",
            "3s - loss:  0.8492 - mse:  0.8493 - val_mse:  0.9085\n",
            "Epoch 11/20\n",
            "3s - loss:  0.8496 - mse:  0.8496 - val_mse:  0.9087\n",
            "Epoch 12/20\n",
            "3s - loss:  0.8484 - mse:  0.8484 - val_mse:  0.9143\n",
            "Epoch 13/20\n",
            "3s - loss:  0.8479 - mse:  0.8480 - val_mse:  0.9135\n",
            "Epoch 14/20\n",
            "3s - loss:  0.8475 - mse:  0.8475 - val_mse:  0.9085\n",
            "Epoch 15/20\n",
            "3s - loss:  0.8447 - mse:  0.8446 - val_mse:  0.9107\n",
            "Epoch 16/20\n",
            "3s - loss:  0.8446 - mse:  0.8447 - val_mse:  0.9139\n",
            "Epoch 17/20\n",
            "3s - loss:  0.8447 - mse:  0.8447 - val_mse:  0.9079\n",
            "Epoch 18/20\n",
            "3s - loss:  0.8439 - mse:  0.8440 - val_mse:  0.9118\n",
            "Epoch 19/20\n",
            "3s - loss:  0.8433 - mse:  0.8433 - val_mse:  0.9055\n",
            "Epoch 20/20\n",
            "3s - loss:  0.8418 - mse:  0.8418 - val_mse:  0.9062\n",
            "cuda:0\n",
            "Train on 70588 samples, validate on 9412 samples, 276 steps per epoch\n",
            "Epoch 1/20\n",
            "3s - loss:  2.0417 - mse:  2.0405 - val_mse:  0.9375\n",
            "Epoch 2/20\n",
            "3s - loss:  0.8794 - mse:  0.8794 - val_mse:  0.9144\n",
            "Epoch 3/20\n",
            "3s - loss:  0.8633 - mse:  0.8633 - val_mse:  0.9153\n",
            "Epoch 4/20\n",
            "3s - loss:  0.8580 - mse:  0.8579 - val_mse:  0.9090\n",
            "Epoch 5/20\n",
            "3s - loss:  0.8547 - mse:  0.8547 - val_mse:  0.9073\n",
            "Epoch 6/20\n",
            "3s - loss:  0.8539 - mse:  0.8538 - val_mse:  0.9104\n",
            "Epoch 7/20\n",
            "3s - loss:  0.8528 - mse:  0.8528 - val_mse:  0.9123\n",
            "Epoch 8/20\n",
            "3s - loss:  0.8515 - mse:  0.8515 - val_mse:  0.9162\n",
            "Epoch 9/20\n",
            "3s - loss:  0.8502 - mse:  0.8504 - val_mse:  0.9118\n",
            "Epoch 10/20\n",
            "3s - loss:  0.8492 - mse:  0.8493 - val_mse:  0.9085\n",
            "Epoch 11/20\n",
            "3s - loss:  0.8496 - mse:  0.8496 - val_mse:  0.9087\n",
            "Epoch 12/20\n",
            "3s - loss:  0.8484 - mse:  0.8484 - val_mse:  0.9143\n",
            "Epoch 13/20\n",
            "3s - loss:  0.8479 - mse:  0.8480 - val_mse:  0.9135\n",
            "Epoch 14/20\n",
            "3s - loss:  0.8475 - mse:  0.8475 - val_mse:  0.9085\n",
            "Epoch 15/20\n",
            "3s - loss:  0.8447 - mse:  0.8446 - val_mse:  0.9107\n",
            "Epoch 16/20\n",
            "3s - loss:  0.8446 - mse:  0.8447 - val_mse:  0.9139\n",
            "Epoch 17/20\n",
            "3s - loss:  0.8447 - mse:  0.8447 - val_mse:  0.9079\n",
            "Epoch 18/20\n",
            "3s - loss:  0.8439 - mse:  0.8440 - val_mse:  0.9118\n",
            "Epoch 19/20\n",
            "3s - loss:  0.8433 - mse:  0.8433 - val_mse:  0.9055\n",
            "Epoch 20/20\n",
            "3s - loss:  0.8418 - mse:  0.8418 - val_mse:  0.9062\n",
            "{'epoch': 20, 'mean': 0.8908200619090696, 'history': <tensorflow.python.keras.callbacks.History object at 0x7fccf5c9e650>}\n"
          ]
        }
      ]
    },
    {
      "cell_type": "code",
      "metadata": {
        "id": "5FEs0k9KJeob"
      },
      "source": [
        "def plotHistory(history):\n",
        "  rmse = history.history['mse']\n",
        "  val_rmse = history.history['val_mse']\n",
        "\n",
        "  loss = history.history['loss']\n",
        "  # val_loss = history.history['val_loss']\n",
        "\n",
        "  plt.figure(figsize=(8, 8))\n",
        "  plt.subplot(2, 1, 1)\n",
        "  plt.plot(rmse, label='Training MSE')\n",
        "  plt.plot(val_rmse, label='Validation MSE')\n",
        "  plt.legend(loc='lower right')\n",
        "  plt.ylabel('RMSE')\n",
        "  plt.ylim([min(plt.ylim()),2])\n",
        "  plt.title('Training and Validation MSE')\n",
        "\n",
        "  # plt.subplot(2, 1, 2)\n",
        "  # plt.plot(loss, label='Training Loss')\n",
        "  # # plt.plot(val_loss, label='Validation Loss')\n",
        "  # plt.legend(loc='upper right')\n",
        "  # plt.ylabel('Loss')\n",
        "  # plt.ylim([0,2.0])\n",
        "  # plt.title('Training Loss')\n",
        "  # plt.xlabel('epoch')\n",
        "  # plt.show()"
      ],
      "execution_count": null,
      "outputs": []
    },
    {
      "cell_type": "code",
      "metadata": {
        "colab": {
          "base_uri": "https://localhost:8080/",
          "height": 262
        },
        "id": "K51qmP2SL7L7",
        "outputId": "2e969bf5-78e4-454f-82b0-d0e4ff42e735"
      },
      "source": [
        "plotHistory(hyper_result['best_params']['history'])"
      ],
      "execution_count": null,
      "outputs": [
        {
          "output_type": "display_data",
          "data": {
            "image/png": "[encoded data removed]",
            "text/plain": [
              "<Figure size 576x576 with 1 Axes>"
            ]
          },
          "metadata": {
            "needs_background": "light"
          }
        }
      ]
    },
    {
      "cell_type": "code",
      "metadata": {
        "id": "pjThBAoYMvkE"
      },
      "source": [
        ""
      ],
      "execution_count": null,
      "outputs": []
    }
  ]
}